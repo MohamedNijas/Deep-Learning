{
 "cells": [
  {
   "cell_type": "code",
   "execution_count": 143,
   "metadata": {
    "executionInfo": {
     "elapsed": 7,
     "status": "ok",
     "timestamp": 1637944789951,
     "user": {
      "displayName": "Mohamed Aliyar Mohamed Nijas",
      "photoUrl": "https://lh3.googleusercontent.com/a/default-user=s64",
      "userId": "08734262669778471711"
     },
     "user_tz": -330
    },
    "id": "LiHVjL9OyXZK"
   },
   "outputs": [],
   "source": [
    "import pandas as pd\n",
    "import numpy as np"
   ]
  },
  {
   "cell_type": "code",
   "execution_count": 144,
   "metadata": {
    "executionInfo": {
     "elapsed": 11,
     "status": "ok",
     "timestamp": 1637944791381,
     "user": {
      "displayName": "Mohamed Aliyar Mohamed Nijas",
      "photoUrl": "https://lh3.googleusercontent.com/a/default-user=s64",
      "userId": "08734262669778471711"
     },
     "user_tz": -330
    },
    "id": "XBelDhF3zBaI"
   },
   "outputs": [],
   "source": [
    "myDF = pd.read_csv(\"test(1).csv\")#01\n"
   ]
  },
  {
   "cell_type": "code",
   "execution_count": 145,
   "metadata": {
    "colab": {
     "base_uri": "https://localhost:8080/",
     "height": 143
    },
    "executionInfo": {
     "elapsed": 757,
     "status": "ok",
     "timestamp": 1637944792129,
     "user": {
      "displayName": "Mohamed Aliyar Mohamed Nijas",
      "photoUrl": "https://lh3.googleusercontent.com/a/default-user=s64",
      "userId": "08734262669778471711"
     },
     "user_tz": -330
    },
    "id": "hABiGOrmtVa6",
    "outputId": "de411211-6946-46eb-eaab-72151ac5593a"
   },
   "outputs": [
    {
     "data": {
      "text/html": [
       "<div>\n",
       "<style scoped>\n",
       "    .dataframe tbody tr th:only-of-type {\n",
       "        vertical-align: middle;\n",
       "    }\n",
       "\n",
       "    .dataframe tbody tr th {\n",
       "        vertical-align: top;\n",
       "    }\n",
       "\n",
       "    .dataframe thead th {\n",
       "        text-align: right;\n",
       "    }\n",
       "</style>\n",
       "<table border=\"1\" class=\"dataframe\">\n",
       "  <thead>\n",
       "    <tr style=\"text-align: right;\">\n",
       "      <th></th>\n",
       "      <th>ID</th>\n",
       "      <th>Range</th>\n",
       "      <th>Value</th>\n",
       "      <th>Type</th>\n",
       "      <th>Zip Code</th>\n",
       "      <th>Model</th>\n",
       "      <th>Cost</th>\n",
       "      <th>Continent</th>\n",
       "    </tr>\n",
       "  </thead>\n",
       "  <tbody>\n",
       "    <tr>\n",
       "      <th>0</th>\n",
       "      <td>10</td>\n",
       "      <td>192</td>\n",
       "      <td>50</td>\n",
       "      <td>F</td>\n",
       "      <td>NXEYEM</td>\n",
       "      <td>EX85</td>\n",
       "      <td>[56$]</td>\n",
       "      <td>Asia</td>\n",
       "    </tr>\n",
       "    <tr>\n",
       "      <th>1</th>\n",
       "      <td>20</td>\n",
       "      <td>299</td>\n",
       "      <td>21</td>\n",
       "      <td>M</td>\n",
       "      <td>VNFKZD</td>\n",
       "      <td>CT41</td>\n",
       "      <td>[18$]</td>\n",
       "      <td>Asia</td>\n",
       "    </tr>\n",
       "    <tr>\n",
       "      <th>2</th>\n",
       "      <td>30</td>\n",
       "      <td>378</td>\n",
       "      <td>28</td>\n",
       "      <td>X</td>\n",
       "      <td>IMGMFY</td>\n",
       "      <td>VN81</td>\n",
       "      <td>[90$]</td>\n",
       "      <td>North America</td>\n",
       "    </tr>\n",
       "  </tbody>\n",
       "</table>\n",
       "</div>"
      ],
      "text/plain": [
       "   ID  Range  Value Type Zip Code Model   Cost      Continent\n",
       "0  10    192     50    F   NXEYEM  EX85  [56$]           Asia\n",
       "1  20    299     21    M   VNFKZD  CT41  [18$]           Asia\n",
       "2  30    378     28    X   IMGMFY  VN81  [90$]  North America"
      ]
     },
     "execution_count": 145,
     "metadata": {},
     "output_type": "execute_result"
    }
   ],
   "source": [
    "myDF.head(3)#02"
   ]
  },
  {
   "cell_type": "code",
   "execution_count": 146,
   "metadata": {
    "colab": {
     "base_uri": "https://localhost:8080/",
     "height": 424
    },
    "executionInfo": {
     "elapsed": 86,
     "status": "ok",
     "timestamp": 1637944792130,
     "user": {
      "displayName": "Mohamed Aliyar Mohamed Nijas",
      "photoUrl": "https://lh3.googleusercontent.com/a/default-user=s64",
      "userId": "08734262669778471711"
     },
     "user_tz": -330
    },
    "id": "NUZ16UyDzT4h",
    "outputId": "d9edc907-46bf-4871-8056-3baa5d65a0ca"
   },
   "outputs": [
    {
     "data": {
      "text/html": [
       "<div>\n",
       "<style scoped>\n",
       "    .dataframe tbody tr th:only-of-type {\n",
       "        vertical-align: middle;\n",
       "    }\n",
       "\n",
       "    .dataframe tbody tr th {\n",
       "        vertical-align: top;\n",
       "    }\n",
       "\n",
       "    .dataframe thead th {\n",
       "        text-align: right;\n",
       "    }\n",
       "</style>\n",
       "<table border=\"1\" class=\"dataframe\">\n",
       "  <thead>\n",
       "    <tr style=\"text-align: right;\">\n",
       "      <th></th>\n",
       "      <th>ID</th>\n",
       "      <th>Range</th>\n",
       "      <th>Value</th>\n",
       "      <th>Type</th>\n",
       "      <th>Zip Code</th>\n",
       "      <th>Cost</th>\n",
       "      <th>Continent</th>\n",
       "    </tr>\n",
       "  </thead>\n",
       "  <tbody>\n",
       "    <tr>\n",
       "      <th>0</th>\n",
       "      <td>10</td>\n",
       "      <td>192</td>\n",
       "      <td>50</td>\n",
       "      <td>F</td>\n",
       "      <td>NXEYEM</td>\n",
       "      <td>[56$]</td>\n",
       "      <td>Asia</td>\n",
       "    </tr>\n",
       "    <tr>\n",
       "      <th>1</th>\n",
       "      <td>20</td>\n",
       "      <td>299</td>\n",
       "      <td>21</td>\n",
       "      <td>M</td>\n",
       "      <td>VNFKZD</td>\n",
       "      <td>[18$]</td>\n",
       "      <td>Asia</td>\n",
       "    </tr>\n",
       "    <tr>\n",
       "      <th>2</th>\n",
       "      <td>30</td>\n",
       "      <td>378</td>\n",
       "      <td>28</td>\n",
       "      <td>X</td>\n",
       "      <td>IMGMFY</td>\n",
       "      <td>[90$]</td>\n",
       "      <td>North America</td>\n",
       "    </tr>\n",
       "    <tr>\n",
       "      <th>3</th>\n",
       "      <td>40</td>\n",
       "      <td>156</td>\n",
       "      <td>44</td>\n",
       "      <td>Q</td>\n",
       "      <td>RHRHJY</td>\n",
       "      <td>[89$]</td>\n",
       "      <td>Asia</td>\n",
       "    </tr>\n",
       "    <tr>\n",
       "      <th>4</th>\n",
       "      <td>50</td>\n",
       "      <td>468</td>\n",
       "      <td>33</td>\n",
       "      <td>J</td>\n",
       "      <td>HPQCMC</td>\n",
       "      <td>[95$]</td>\n",
       "      <td>Africa</td>\n",
       "    </tr>\n",
       "    <tr>\n",
       "      <th>...</th>\n",
       "      <td>...</td>\n",
       "      <td>...</td>\n",
       "      <td>...</td>\n",
       "      <td>...</td>\n",
       "      <td>...</td>\n",
       "      <td>...</td>\n",
       "      <td>...</td>\n",
       "    </tr>\n",
       "    <tr>\n",
       "      <th>945</th>\n",
       "      <td>9460</td>\n",
       "      <td>136</td>\n",
       "      <td>12</td>\n",
       "      <td>C</td>\n",
       "      <td>HGVBPV</td>\n",
       "      <td>[51$]</td>\n",
       "      <td>South America</td>\n",
       "    </tr>\n",
       "    <tr>\n",
       "      <th>946</th>\n",
       "      <td>9470</td>\n",
       "      <td>316</td>\n",
       "      <td>46</td>\n",
       "      <td>L</td>\n",
       "      <td>SHBAUD</td>\n",
       "      <td>[33$]</td>\n",
       "      <td>North America</td>\n",
       "    </tr>\n",
       "    <tr>\n",
       "      <th>947</th>\n",
       "      <td>9480</td>\n",
       "      <td>461</td>\n",
       "      <td>46</td>\n",
       "      <td>K</td>\n",
       "      <td>PUZUVO</td>\n",
       "      <td>[12$]</td>\n",
       "      <td>Europe</td>\n",
       "    </tr>\n",
       "    <tr>\n",
       "      <th>948</th>\n",
       "      <td>9490</td>\n",
       "      <td>185</td>\n",
       "      <td>13</td>\n",
       "      <td>N</td>\n",
       "      <td>UMESZO</td>\n",
       "      <td>[39$]</td>\n",
       "      <td>North America</td>\n",
       "    </tr>\n",
       "    <tr>\n",
       "      <th>949</th>\n",
       "      <td>9500</td>\n",
       "      <td>137</td>\n",
       "      <td>10</td>\n",
       "      <td>W</td>\n",
       "      <td>JOHHVL</td>\n",
       "      <td>[10$]</td>\n",
       "      <td>South America</td>\n",
       "    </tr>\n",
       "  </tbody>\n",
       "</table>\n",
       "<p>950 rows × 7 columns</p>\n",
       "</div>"
      ],
      "text/plain": [
       "       ID  Range  Value Type Zip Code   Cost      Continent\n",
       "0      10    192     50    F   NXEYEM  [56$]           Asia\n",
       "1      20    299     21    M   VNFKZD  [18$]           Asia\n",
       "2      30    378     28    X   IMGMFY  [90$]  North America\n",
       "3      40    156     44    Q   RHRHJY  [89$]           Asia\n",
       "4      50    468     33    J   HPQCMC  [95$]         Africa\n",
       "..    ...    ...    ...  ...      ...    ...            ...\n",
       "945  9460    136     12    C   HGVBPV  [51$]  South America\n",
       "946  9470    316     46    L   SHBAUD  [33$]  North America\n",
       "947  9480    461     46    K   PUZUVO  [12$]         Europe\n",
       "948  9490    185     13    N   UMESZO  [39$]  North America\n",
       "949  9500    137     10    W   JOHHVL  [10$]  South America\n",
       "\n",
       "[950 rows x 7 columns]"
      ]
     },
     "execution_count": 146,
     "metadata": {},
     "output_type": "execute_result"
    }
   ],
   "source": [
    "myDF.drop([\"Model\"],axis = 1)#03"
   ]
  },
  {
   "cell_type": "markdown",
   "metadata": {
    "id": "F_RKLn6St3bB"
   },
   "source": [
    "There is no any output when run, but  we can see the result by visualizing the dataframe"
   ]
  },
  {
   "cell_type": "code",
   "execution_count": 147,
   "metadata": {
    "executionInfo": {
     "elapsed": 84,
     "status": "ok",
     "timestamp": 1637944792132,
     "user": {
      "displayName": "Mohamed Aliyar Mohamed Nijas",
      "photoUrl": "https://lh3.googleusercontent.com/a/default-user=s64",
      "userId": "08734262669778471711"
     },
     "user_tz": -330
    },
    "id": "Vk4f1aXC0Mf5"
   },
   "outputs": [],
   "source": [
    "myDF = myDF[[\"ID\",\"Range\",\"Value\",\"Type\",\"Zip Code\",\"Cost\",\"Continent\"]]#04\n",
    "#there is no  any output to make sure the deletation"
   ]
  },
  {
   "cell_type": "code",
   "execution_count": 148,
   "metadata": {
    "colab": {
     "base_uri": "https://localhost:8080/",
     "height": 206
    },
    "executionInfo": {
     "elapsed": 84,
     "status": "ok",
     "timestamp": 1637944792133,
     "user": {
      "displayName": "Mohamed Aliyar Mohamed Nijas",
      "photoUrl": "https://lh3.googleusercontent.com/a/default-user=s64",
      "userId": "08734262669778471711"
     },
     "user_tz": -330
    },
    "id": "tzD2PEbHulOE",
    "outputId": "c71e563e-aabb-4103-9d0e-19a925becc32"
   },
   "outputs": [
    {
     "data": {
      "text/html": [
       "<div>\n",
       "<style scoped>\n",
       "    .dataframe tbody tr th:only-of-type {\n",
       "        vertical-align: middle;\n",
       "    }\n",
       "\n",
       "    .dataframe tbody tr th {\n",
       "        vertical-align: top;\n",
       "    }\n",
       "\n",
       "    .dataframe thead th {\n",
       "        text-align: right;\n",
       "    }\n",
       "</style>\n",
       "<table border=\"1\" class=\"dataframe\">\n",
       "  <thead>\n",
       "    <tr style=\"text-align: right;\">\n",
       "      <th></th>\n",
       "      <th>ID</th>\n",
       "      <th>Range</th>\n",
       "      <th>Value</th>\n",
       "      <th>Type</th>\n",
       "      <th>Zip Code</th>\n",
       "      <th>Cost</th>\n",
       "      <th>Continent</th>\n",
       "    </tr>\n",
       "  </thead>\n",
       "  <tbody>\n",
       "    <tr>\n",
       "      <th>0</th>\n",
       "      <td>10</td>\n",
       "      <td>192</td>\n",
       "      <td>50</td>\n",
       "      <td>F</td>\n",
       "      <td>NXEYEM</td>\n",
       "      <td>[56$]</td>\n",
       "      <td>Asia</td>\n",
       "    </tr>\n",
       "    <tr>\n",
       "      <th>1</th>\n",
       "      <td>20</td>\n",
       "      <td>299</td>\n",
       "      <td>21</td>\n",
       "      <td>M</td>\n",
       "      <td>VNFKZD</td>\n",
       "      <td>[18$]</td>\n",
       "      <td>Asia</td>\n",
       "    </tr>\n",
       "    <tr>\n",
       "      <th>2</th>\n",
       "      <td>30</td>\n",
       "      <td>378</td>\n",
       "      <td>28</td>\n",
       "      <td>X</td>\n",
       "      <td>IMGMFY</td>\n",
       "      <td>[90$]</td>\n",
       "      <td>North America</td>\n",
       "    </tr>\n",
       "    <tr>\n",
       "      <th>3</th>\n",
       "      <td>40</td>\n",
       "      <td>156</td>\n",
       "      <td>44</td>\n",
       "      <td>Q</td>\n",
       "      <td>RHRHJY</td>\n",
       "      <td>[89$]</td>\n",
       "      <td>Asia</td>\n",
       "    </tr>\n",
       "    <tr>\n",
       "      <th>4</th>\n",
       "      <td>50</td>\n",
       "      <td>468</td>\n",
       "      <td>33</td>\n",
       "      <td>J</td>\n",
       "      <td>HPQCMC</td>\n",
       "      <td>[95$]</td>\n",
       "      <td>Africa</td>\n",
       "    </tr>\n",
       "  </tbody>\n",
       "</table>\n",
       "</div>"
      ],
      "text/plain": [
       "   ID  Range  Value Type Zip Code   Cost      Continent\n",
       "0  10    192     50    F   NXEYEM  [56$]           Asia\n",
       "1  20    299     21    M   VNFKZD  [18$]           Asia\n",
       "2  30    378     28    X   IMGMFY  [90$]  North America\n",
       "3  40    156     44    Q   RHRHJY  [89$]           Asia\n",
       "4  50    468     33    J   HPQCMC  [95$]         Africa"
      ]
     },
     "execution_count": 148,
     "metadata": {},
     "output_type": "execute_result"
    }
   ],
   "source": [
    "myDF.head() #04 \n",
    "     #make sure the deletation by visualizing the dataframe"
   ]
  },
  {
   "cell_type": "code",
   "execution_count": 149,
   "metadata": {
    "colab": {
     "base_uri": "https://localhost:8080/",
     "height": 282
    },
    "executionInfo": {
     "elapsed": 83,
     "status": "ok",
     "timestamp": 1637944792135,
     "user": {
      "displayName": "Mohamed Aliyar Mohamed Nijas",
      "photoUrl": "https://lh3.googleusercontent.com/a/default-user=s64",
      "userId": "08734262669778471711"
     },
     "user_tz": -330
    },
    "id": "4KOObky92Ra2",
    "outputId": "446cc084-62d8-4b35-a965-6b6d321c07bb"
   },
   "outputs": [
    {
     "name": "stderr",
     "output_type": "stream",
     "text": [
      "/usr/local/lib/python3.7/dist-packages/pandas/core/frame.py:4174: SettingWithCopyWarning: \n",
      "A value is trying to be set on a copy of a slice from a DataFrame\n",
      "\n",
      "See the caveats in the documentation: https://pandas.pydata.org/pandas-docs/stable/user_guide/indexing.html#returning-a-view-versus-a-copy\n",
      "  errors=errors,\n"
     ]
    },
    {
     "data": {
      "text/html": [
       "<div>\n",
       "<style scoped>\n",
       "    .dataframe tbody tr th:only-of-type {\n",
       "        vertical-align: middle;\n",
       "    }\n",
       "\n",
       "    .dataframe tbody tr th {\n",
       "        vertical-align: top;\n",
       "    }\n",
       "\n",
       "    .dataframe thead th {\n",
       "        text-align: right;\n",
       "    }\n",
       "</style>\n",
       "<table border=\"1\" class=\"dataframe\">\n",
       "  <thead>\n",
       "    <tr style=\"text-align: right;\">\n",
       "      <th></th>\n",
       "      <th>ID</th>\n",
       "      <th>Range</th>\n",
       "      <th>Value</th>\n",
       "      <th>Type</th>\n",
       "      <th>Zip Code</th>\n",
       "      <th>Cost</th>\n",
       "      <th>Continent</th>\n",
       "    </tr>\n",
       "  </thead>\n",
       "  <tbody>\n",
       "    <tr>\n",
       "      <th>0</th>\n",
       "      <td>10</td>\n",
       "      <td>192</td>\n",
       "      <td>50</td>\n",
       "      <td>F</td>\n",
       "      <td>NXEYEM</td>\n",
       "      <td>[56$]</td>\n",
       "      <td>Asia</td>\n",
       "    </tr>\n",
       "    <tr>\n",
       "      <th>2</th>\n",
       "      <td>30</td>\n",
       "      <td>378</td>\n",
       "      <td>28</td>\n",
       "      <td>X</td>\n",
       "      <td>IMGMFY</td>\n",
       "      <td>[90$]</td>\n",
       "      <td>North America</td>\n",
       "    </tr>\n",
       "    <tr>\n",
       "      <th>4</th>\n",
       "      <td>50</td>\n",
       "      <td>468</td>\n",
       "      <td>33</td>\n",
       "      <td>J</td>\n",
       "      <td>HPQCMC</td>\n",
       "      <td>[95$]</td>\n",
       "      <td>Africa</td>\n",
       "    </tr>\n",
       "    <tr>\n",
       "      <th>6</th>\n",
       "      <td>70</td>\n",
       "      <td>327</td>\n",
       "      <td>24</td>\n",
       "      <td>F</td>\n",
       "      <td>NLVQPY</td>\n",
       "      <td>[25$]</td>\n",
       "      <td>Europe</td>\n",
       "    </tr>\n",
       "  </tbody>\n",
       "</table>\n",
       "</div>"
      ],
      "text/plain": [
       "   ID  Range  Value Type Zip Code   Cost      Continent\n",
       "0  10    192     50    F   NXEYEM  [56$]           Asia\n",
       "2  30    378     28    X   IMGMFY  [90$]  North America\n",
       "4  50    468     33    J   HPQCMC  [95$]         Africa\n",
       "6  70    327     24    F   NLVQPY  [25$]         Europe"
      ]
     },
     "execution_count": 149,
     "metadata": {},
     "output_type": "execute_result"
    }
   ],
   "source": [
    "myDF.drop([1,3,5],axis = 0,inplace = True)\n",
    "myDF.head(4)                                  #05"
   ]
  },
  {
   "cell_type": "code",
   "execution_count": 150,
   "metadata": {
    "colab": {
     "base_uri": "https://localhost:8080/"
    },
    "executionInfo": {
     "elapsed": 67,
     "status": "ok",
     "timestamp": 1637944792136,
     "user": {
      "displayName": "Mohamed Aliyar Mohamed Nijas",
      "photoUrl": "https://lh3.googleusercontent.com/a/default-user=s64",
      "userId": "08734262669778471711"
     },
     "user_tz": -330
    },
    "id": "Xzv3o-DB2rS1",
    "outputId": "5be9423c-bd77-4197-b30c-2290ce998ce1"
   },
   "outputs": [
    {
     "data": {
      "text/plain": [
       "Range    297.533263\n",
       "dtype: float64"
      ]
     },
     "execution_count": 150,
     "metadata": {},
     "output_type": "execute_result"
    }
   ],
   "source": [
    "myDF[[\"Range\"]].mean()                #06"
   ]
  },
  {
   "cell_type": "code",
   "execution_count": 151,
   "metadata": {
    "colab": {
     "base_uri": "https://localhost:8080/"
    },
    "executionInfo": {
     "elapsed": 63,
     "status": "ok",
     "timestamp": 1637944792138,
     "user": {
      "displayName": "Mohamed Aliyar Mohamed Nijas",
      "photoUrl": "https://lh3.googleusercontent.com/a/default-user=s64",
      "userId": "08734262669778471711"
     },
     "user_tz": -330
    },
    "id": "sn_hvOem3eEc",
    "outputId": "da8093ff-eebb-4a8e-e812-9cc384eda50f"
   },
   "outputs": [
    {
     "data": {
      "text/plain": [
       "50"
      ]
     },
     "execution_count": 151,
     "metadata": {},
     "output_type": "execute_result"
    }
   ],
   "source": [
    "len(myDF[myDF[\"Type\"]==\"F\"])          #07  there are 50 "
   ]
  },
  {
   "cell_type": "code",
   "execution_count": 152,
   "metadata": {
    "colab": {
     "base_uri": "https://localhost:8080/",
     "height": 330
    },
    "executionInfo": {
     "elapsed": 60,
     "status": "ok",
     "timestamp": 1637944792139,
     "user": {
      "displayName": "Mohamed Aliyar Mohamed Nijas",
      "photoUrl": "https://lh3.googleusercontent.com/a/default-user=s64",
      "userId": "08734262669778471711"
     },
     "user_tz": -330
    },
    "id": "jaIhY2dw3zIW",
    "outputId": "e0101476-61f4-4f19-bcbd-acdcf722a74e"
   },
   "outputs": [
    {
     "name": "stderr",
     "output_type": "stream",
     "text": [
      "/usr/local/lib/python3.7/dist-packages/ipykernel_launcher.py:1: SettingWithCopyWarning: \n",
      "A value is trying to be set on a copy of a slice from a DataFrame.\n",
      "Try using .loc[row_indexer,col_indexer] = value instead\n",
      "\n",
      "See the caveats in the documentation: https://pandas.pydata.org/pandas-docs/stable/user_guide/indexing.html#returning-a-view-versus-a-copy\n",
      "  \"\"\"Entry point for launching an IPython kernel.\n"
     ]
    },
    {
     "data": {
      "text/html": [
       "<div>\n",
       "<style scoped>\n",
       "    .dataframe tbody tr th:only-of-type {\n",
       "        vertical-align: middle;\n",
       "    }\n",
       "\n",
       "    .dataframe tbody tr th {\n",
       "        vertical-align: top;\n",
       "    }\n",
       "\n",
       "    .dataframe thead th {\n",
       "        text-align: right;\n",
       "    }\n",
       "</style>\n",
       "<table border=\"1\" class=\"dataframe\">\n",
       "  <thead>\n",
       "    <tr style=\"text-align: right;\">\n",
       "      <th></th>\n",
       "      <th>ID</th>\n",
       "      <th>Range</th>\n",
       "      <th>Value</th>\n",
       "      <th>Type</th>\n",
       "      <th>Zip Code</th>\n",
       "      <th>Cost</th>\n",
       "      <th>Continent</th>\n",
       "    </tr>\n",
       "  </thead>\n",
       "  <tbody>\n",
       "    <tr>\n",
       "      <th>0</th>\n",
       "      <td>10</td>\n",
       "      <td>192</td>\n",
       "      <td>50</td>\n",
       "      <td>AAA</td>\n",
       "      <td>NXEYEM</td>\n",
       "      <td>[56$]</td>\n",
       "      <td>Asia</td>\n",
       "    </tr>\n",
       "    <tr>\n",
       "      <th>2</th>\n",
       "      <td>30</td>\n",
       "      <td>378</td>\n",
       "      <td>28</td>\n",
       "      <td>X</td>\n",
       "      <td>IMGMFY</td>\n",
       "      <td>[90$]</td>\n",
       "      <td>North America</td>\n",
       "    </tr>\n",
       "    <tr>\n",
       "      <th>4</th>\n",
       "      <td>50</td>\n",
       "      <td>468</td>\n",
       "      <td>33</td>\n",
       "      <td>J</td>\n",
       "      <td>HPQCMC</td>\n",
       "      <td>[95$]</td>\n",
       "      <td>Africa</td>\n",
       "    </tr>\n",
       "    <tr>\n",
       "      <th>6</th>\n",
       "      <td>70</td>\n",
       "      <td>327</td>\n",
       "      <td>24</td>\n",
       "      <td>AAA</td>\n",
       "      <td>NLVQPY</td>\n",
       "      <td>[25$]</td>\n",
       "      <td>Europe</td>\n",
       "    </tr>\n",
       "    <tr>\n",
       "      <th>7</th>\n",
       "      <td>80</td>\n",
       "      <td>495</td>\n",
       "      <td>50</td>\n",
       "      <td>Z</td>\n",
       "      <td>DLUMAX</td>\n",
       "      <td>[70$]</td>\n",
       "      <td>Antarctica</td>\n",
       "    </tr>\n",
       "  </tbody>\n",
       "</table>\n",
       "</div>"
      ],
      "text/plain": [
       "   ID  Range  Value Type Zip Code   Cost      Continent\n",
       "0  10    192     50  AAA   NXEYEM  [56$]           Asia\n",
       "2  30    378     28    X   IMGMFY  [90$]  North America\n",
       "4  50    468     33    J   HPQCMC  [95$]         Africa\n",
       "6  70    327     24  AAA   NLVQPY  [25$]         Europe\n",
       "7  80    495     50    Z   DLUMAX  [70$]     Antarctica"
      ]
     },
     "execution_count": 152,
     "metadata": {},
     "output_type": "execute_result"
    }
   ],
   "source": [
    "myDF[\"Type\"] = myDF[\"Type\"].apply(lambda x: \"AAA\" if x == \"F\" else x) #07  first five rows after replacement\n",
    "myDF.head(5)"
   ]
  },
  {
   "cell_type": "code",
   "execution_count": 153,
   "metadata": {
    "colab": {
     "base_uri": "https://localhost:8080/",
     "height": 330
    },
    "executionInfo": {
     "elapsed": 56,
     "status": "ok",
     "timestamp": 1637944792140,
     "user": {
      "displayName": "Mohamed Aliyar Mohamed Nijas",
      "photoUrl": "https://lh3.googleusercontent.com/a/default-user=s64",
      "userId": "08734262669778471711"
     },
     "user_tz": -330
    },
    "id": "IxnvxxTFaPfd",
    "outputId": "4c8e171f-c180-4964-e35b-8ea32239f59b"
   },
   "outputs": [
    {
     "name": "stderr",
     "output_type": "stream",
     "text": [
      "/usr/local/lib/python3.7/dist-packages/ipykernel_launcher.py:1: SettingWithCopyWarning: \n",
      "A value is trying to be set on a copy of a slice from a DataFrame.\n",
      "Try using .loc[row_indexer,col_indexer] = value instead\n",
      "\n",
      "See the caveats in the documentation: https://pandas.pydata.org/pandas-docs/stable/user_guide/indexing.html#returning-a-view-versus-a-copy\n",
      "  \"\"\"Entry point for launching an IPython kernel.\n"
     ]
    },
    {
     "data": {
      "text/html": [
       "<div>\n",
       "<style scoped>\n",
       "    .dataframe tbody tr th:only-of-type {\n",
       "        vertical-align: middle;\n",
       "    }\n",
       "\n",
       "    .dataframe tbody tr th {\n",
       "        vertical-align: top;\n",
       "    }\n",
       "\n",
       "    .dataframe thead th {\n",
       "        text-align: right;\n",
       "    }\n",
       "</style>\n",
       "<table border=\"1\" class=\"dataframe\">\n",
       "  <thead>\n",
       "    <tr style=\"text-align: right;\">\n",
       "      <th></th>\n",
       "      <th>ID</th>\n",
       "      <th>Range</th>\n",
       "      <th>Value</th>\n",
       "      <th>Type</th>\n",
       "      <th>Zip Code</th>\n",
       "      <th>Cost</th>\n",
       "      <th>Continent</th>\n",
       "    </tr>\n",
       "  </thead>\n",
       "  <tbody>\n",
       "    <tr>\n",
       "      <th>0</th>\n",
       "      <td>10</td>\n",
       "      <td>192</td>\n",
       "      <td>50</td>\n",
       "      <td>AAA</td>\n",
       "      <td>NXEYEM</td>\n",
       "      <td>56</td>\n",
       "      <td>Asia</td>\n",
       "    </tr>\n",
       "    <tr>\n",
       "      <th>2</th>\n",
       "      <td>30</td>\n",
       "      <td>378</td>\n",
       "      <td>28</td>\n",
       "      <td>X</td>\n",
       "      <td>IMGMFY</td>\n",
       "      <td>90</td>\n",
       "      <td>North America</td>\n",
       "    </tr>\n",
       "    <tr>\n",
       "      <th>4</th>\n",
       "      <td>50</td>\n",
       "      <td>468</td>\n",
       "      <td>33</td>\n",
       "      <td>J</td>\n",
       "      <td>HPQCMC</td>\n",
       "      <td>95</td>\n",
       "      <td>Africa</td>\n",
       "    </tr>\n",
       "    <tr>\n",
       "      <th>6</th>\n",
       "      <td>70</td>\n",
       "      <td>327</td>\n",
       "      <td>24</td>\n",
       "      <td>AAA</td>\n",
       "      <td>NLVQPY</td>\n",
       "      <td>25</td>\n",
       "      <td>Europe</td>\n",
       "    </tr>\n",
       "    <tr>\n",
       "      <th>7</th>\n",
       "      <td>80</td>\n",
       "      <td>495</td>\n",
       "      <td>50</td>\n",
       "      <td>Z</td>\n",
       "      <td>DLUMAX</td>\n",
       "      <td>70</td>\n",
       "      <td>Antarctica</td>\n",
       "    </tr>\n",
       "  </tbody>\n",
       "</table>\n",
       "</div>"
      ],
      "text/plain": [
       "   ID  Range  Value Type Zip Code Cost      Continent\n",
       "0  10    192     50  AAA   NXEYEM   56           Asia\n",
       "2  30    378     28    X   IMGMFY   90  North America\n",
       "4  50    468     33    J   HPQCMC   95         Africa\n",
       "6  70    327     24  AAA   NLVQPY   25         Europe\n",
       "7  80    495     50    Z   DLUMAX   70     Antarctica"
      ]
     },
     "execution_count": 153,
     "metadata": {},
     "output_type": "execute_result"
    }
   ],
   "source": [
    "myDF[\"Cost\"] = myDF[\"Cost\"].apply(lambda x: x[1:-2])\n",
    "myDF.head(5)                                              #08"
   ]
  },
  {
   "cell_type": "code",
   "execution_count": 154,
   "metadata": {
    "colab": {
     "base_uri": "https://localhost:8080/"
    },
    "executionInfo": {
     "elapsed": 52,
     "status": "ok",
     "timestamp": 1637944792141,
     "user": {
      "displayName": "Mohamed Aliyar Mohamed Nijas",
      "photoUrl": "https://lh3.googleusercontent.com/a/default-user=s64",
      "userId": "08734262669778471711"
     },
     "user_tz": -330
    },
    "id": "iKJkJEkza4aE",
    "outputId": "abcb5fd2-982f-4a1a-9e9b-c2705ec4cf2a"
   },
   "outputs": [
    {
     "data": {
      "text/plain": [
       "Cost    object\n",
       "dtype: object"
      ]
     },
     "execution_count": 154,
     "metadata": {},
     "output_type": "execute_result"
    }
   ],
   "source": [
    "myDF[[\"Cost\"]].dtypes                                  #08 type  of the cost column"
   ]
  },
  {
   "cell_type": "code",
   "execution_count": 155,
   "metadata": {
    "colab": {
     "base_uri": "https://localhost:8080/"
    },
    "executionInfo": {
     "elapsed": 49,
     "status": "ok",
     "timestamp": 1637944792141,
     "user": {
      "displayName": "Mohamed Aliyar Mohamed Nijas",
      "photoUrl": "https://lh3.googleusercontent.com/a/default-user=s64",
      "userId": "08734262669778471711"
     },
     "user_tz": -330
    },
    "id": "CCZBpNdveqLr",
    "outputId": "8dfc3756-c868-4ea2-c7c1-9942230d866b"
   },
   "outputs": [
    {
     "data": {
      "text/plain": [
       "dtype('int64')"
      ]
     },
     "execution_count": 155,
     "metadata": {},
     "output_type": "execute_result"
    }
   ],
   "source": [
    "myDF[\"Cost\"] = myDF[\"Cost\"].astype(int)\n",
    "myDF[\"Cost\"].dtype                                    #09"
   ]
  },
  {
   "cell_type": "code",
   "execution_count": 156,
   "metadata": {
    "colab": {
     "base_uri": "https://localhost:8080/"
    },
    "executionInfo": {
     "elapsed": 47,
     "status": "ok",
     "timestamp": 1637944792143,
     "user": {
      "displayName": "Mohamed Aliyar Mohamed Nijas",
      "photoUrl": "https://lh3.googleusercontent.com/a/default-user=s64",
      "userId": "08734262669778471711"
     },
     "user_tz": -330
    },
    "id": "-FPtkc3Ne8yT",
    "outputId": "88ae88d3-2da2-444e-f417-25bb5ecd4f24"
   },
   "outputs": [
    {
     "data": {
      "text/plain": [
       "54.586061246040124"
      ]
     },
     "execution_count": 156,
     "metadata": {},
     "output_type": "execute_result"
    }
   ],
   "source": [
    "myDF[\"Cost\"].mean()                                #10 average of the cost column"
   ]
  },
  {
   "cell_type": "code",
   "execution_count": 157,
   "metadata": {
    "colab": {
     "base_uri": "https://localhost:8080/",
     "height": 300
    },
    "executionInfo": {
     "elapsed": 45,
     "status": "ok",
     "timestamp": 1637944792144,
     "user": {
      "displayName": "Mohamed Aliyar Mohamed Nijas",
      "photoUrl": "https://lh3.googleusercontent.com/a/default-user=s64",
      "userId": "08734262669778471711"
     },
     "user_tz": -330
    },
    "id": "hOQJ3SibjCkg",
    "outputId": "add31dda-db73-463c-bf08-bbcf2cc094f3"
   },
   "outputs": [
    {
     "data": {
      "text/html": [
       "<div>\n",
       "<style scoped>\n",
       "    .dataframe tbody tr th:only-of-type {\n",
       "        vertical-align: middle;\n",
       "    }\n",
       "\n",
       "    .dataframe tbody tr th {\n",
       "        vertical-align: top;\n",
       "    }\n",
       "\n",
       "    .dataframe thead th {\n",
       "        text-align: right;\n",
       "    }\n",
       "</style>\n",
       "<table border=\"1\" class=\"dataframe\">\n",
       "  <thead>\n",
       "    <tr style=\"text-align: right;\">\n",
       "      <th></th>\n",
       "      <th>Cost</th>\n",
       "    </tr>\n",
       "    <tr>\n",
       "      <th>Continent</th>\n",
       "      <th></th>\n",
       "    </tr>\n",
       "  </thead>\n",
       "  <tbody>\n",
       "    <tr>\n",
       "      <th>Africa</th>\n",
       "      <td>54.741259</td>\n",
       "    </tr>\n",
       "    <tr>\n",
       "      <th>Antarctica</th>\n",
       "      <td>54.706897</td>\n",
       "    </tr>\n",
       "    <tr>\n",
       "      <th>Asia</th>\n",
       "      <td>54.279070</td>\n",
       "    </tr>\n",
       "    <tr>\n",
       "      <th>Australia</th>\n",
       "      <td>56.838028</td>\n",
       "    </tr>\n",
       "    <tr>\n",
       "      <th>Europe</th>\n",
       "      <td>53.258993</td>\n",
       "    </tr>\n",
       "    <tr>\n",
       "      <th>North America</th>\n",
       "      <td>55.006993</td>\n",
       "    </tr>\n",
       "    <tr>\n",
       "      <th>South America</th>\n",
       "      <td>53.162963</td>\n",
       "    </tr>\n",
       "  </tbody>\n",
       "</table>\n",
       "</div>"
      ],
      "text/plain": [
       "                    Cost\n",
       "Continent               \n",
       "Africa         54.741259\n",
       "Antarctica     54.706897\n",
       "Asia           54.279070\n",
       "Australia      56.838028\n",
       "Europe         53.258993\n",
       "North America  55.006993\n",
       "South America  53.162963"
      ]
     },
     "execution_count": 157,
     "metadata": {},
     "output_type": "execute_result"
    }
   ],
   "source": [
    "myDF[[\"Continent\",\"Cost\"]].groupby(\"Continent\").mean()#10  average of ‘Cost’ for each ‘Continent’."
   ]
  },
  {
   "cell_type": "code",
   "execution_count": 158,
   "metadata": {
    "colab": {
     "base_uri": "https://localhost:8080/",
     "height": 332
    },
    "executionInfo": {
     "elapsed": 44,
     "status": "ok",
     "timestamp": 1637944792145,
     "user": {
      "displayName": "Mohamed Aliyar Mohamed Nijas",
      "photoUrl": "https://lh3.googleusercontent.com/a/default-user=s64",
      "userId": "08734262669778471711"
     },
     "user_tz": -330
    },
    "id": "EYFvX1hY5fRg",
    "outputId": "baba0e90-dd67-456e-b732-6ef76739138e"
   },
   "outputs": [
    {
     "data": {
      "text/html": [
       "<div>\n",
       "<style scoped>\n",
       "    .dataframe tbody tr th:only-of-type {\n",
       "        vertical-align: middle;\n",
       "    }\n",
       "\n",
       "    .dataframe tbody tr th {\n",
       "        vertical-align: top;\n",
       "    }\n",
       "\n",
       "    .dataframe thead tr th {\n",
       "        text-align: left;\n",
       "    }\n",
       "\n",
       "    .dataframe thead tr:last-of-type th {\n",
       "        text-align: right;\n",
       "    }\n",
       "</style>\n",
       "<table border=\"1\" class=\"dataframe\">\n",
       "  <thead>\n",
       "    <tr>\n",
       "      <th></th>\n",
       "      <th colspan=\"3\" halign=\"left\">Cost</th>\n",
       "    </tr>\n",
       "    <tr>\n",
       "      <th></th>\n",
       "      <th>min</th>\n",
       "      <th>max</th>\n",
       "      <th>std</th>\n",
       "    </tr>\n",
       "    <tr>\n",
       "      <th>Continent</th>\n",
       "      <th></th>\n",
       "      <th></th>\n",
       "      <th></th>\n",
       "    </tr>\n",
       "  </thead>\n",
       "  <tbody>\n",
       "    <tr>\n",
       "      <th>Africa</th>\n",
       "      <td>11</td>\n",
       "      <td>97</td>\n",
       "      <td>25.961432</td>\n",
       "    </tr>\n",
       "    <tr>\n",
       "      <th>Antarctica</th>\n",
       "      <td>10</td>\n",
       "      <td>97</td>\n",
       "      <td>24.880590</td>\n",
       "    </tr>\n",
       "    <tr>\n",
       "      <th>Asia</th>\n",
       "      <td>10</td>\n",
       "      <td>99</td>\n",
       "      <td>26.109737</td>\n",
       "    </tr>\n",
       "    <tr>\n",
       "      <th>Australia</th>\n",
       "      <td>10</td>\n",
       "      <td>97</td>\n",
       "      <td>26.057121</td>\n",
       "    </tr>\n",
       "    <tr>\n",
       "      <th>Europe</th>\n",
       "      <td>10</td>\n",
       "      <td>99</td>\n",
       "      <td>26.185054</td>\n",
       "    </tr>\n",
       "    <tr>\n",
       "      <th>North America</th>\n",
       "      <td>10</td>\n",
       "      <td>99</td>\n",
       "      <td>25.664821</td>\n",
       "    </tr>\n",
       "    <tr>\n",
       "      <th>South America</th>\n",
       "      <td>10</td>\n",
       "      <td>98</td>\n",
       "      <td>25.724780</td>\n",
       "    </tr>\n",
       "  </tbody>\n",
       "</table>\n",
       "</div>"
      ],
      "text/plain": [
       "              Cost               \n",
       "               min max        std\n",
       "Continent                        \n",
       "Africa          11  97  25.961432\n",
       "Antarctica      10  97  24.880590\n",
       "Asia            10  99  26.109737\n",
       "Australia       10  97  26.057121\n",
       "Europe          10  99  26.185054\n",
       "North America   10  99  25.664821\n",
       "South America   10  98  25.724780"
      ]
     },
     "execution_count": 158,
     "metadata": {},
     "output_type": "execute_result"
    }
   ],
   "source": [
    "myDF[[\"Continent\",\"Cost\"]].groupby(\"Continent\").agg([\"min\",\"max\",\"std\"])#11"
   ]
  },
  {
   "cell_type": "code",
   "execution_count": 159,
   "metadata": {
    "colab": {
     "base_uri": "https://localhost:8080/",
     "height": 332
    },
    "executionInfo": {
     "elapsed": 44,
     "status": "ok",
     "timestamp": 1637944792146,
     "user": {
      "displayName": "Mohamed Aliyar Mohamed Nijas",
      "photoUrl": "https://lh3.googleusercontent.com/a/default-user=s64",
      "userId": "08734262669778471711"
     },
     "user_tz": -330
    },
    "id": "nSH1RviF40OC",
    "outputId": "ffd0a290-1445-4a40-a376-1bc7805664f6"
   },
   "outputs": [
    {
     "data": {
      "text/html": [
       "<div>\n",
       "<style scoped>\n",
       "    .dataframe tbody tr th:only-of-type {\n",
       "        vertical-align: middle;\n",
       "    }\n",
       "\n",
       "    .dataframe tbody tr th {\n",
       "        vertical-align: top;\n",
       "    }\n",
       "\n",
       "    .dataframe thead tr th {\n",
       "        text-align: left;\n",
       "    }\n",
       "\n",
       "    .dataframe thead tr:last-of-type th {\n",
       "        text-align: right;\n",
       "    }\n",
       "</style>\n",
       "<table border=\"1\" class=\"dataframe\">\n",
       "  <thead>\n",
       "    <tr>\n",
       "      <th></th>\n",
       "      <th colspan=\"3\" halign=\"left\">ID</th>\n",
       "      <th colspan=\"3\" halign=\"left\">Range</th>\n",
       "      <th colspan=\"3\" halign=\"left\">Value</th>\n",
       "      <th colspan=\"3\" halign=\"left\">Cost</th>\n",
       "    </tr>\n",
       "    <tr>\n",
       "      <th></th>\n",
       "      <th>min</th>\n",
       "      <th>max</th>\n",
       "      <th>std</th>\n",
       "      <th>min</th>\n",
       "      <th>max</th>\n",
       "      <th>std</th>\n",
       "      <th>min</th>\n",
       "      <th>max</th>\n",
       "      <th>std</th>\n",
       "      <th>min</th>\n",
       "      <th>max</th>\n",
       "      <th>std</th>\n",
       "    </tr>\n",
       "    <tr>\n",
       "      <th>Continent</th>\n",
       "      <th></th>\n",
       "      <th></th>\n",
       "      <th></th>\n",
       "      <th></th>\n",
       "      <th></th>\n",
       "      <th></th>\n",
       "      <th></th>\n",
       "      <th></th>\n",
       "      <th></th>\n",
       "      <th></th>\n",
       "      <th></th>\n",
       "      <th></th>\n",
       "    </tr>\n",
       "  </thead>\n",
       "  <tbody>\n",
       "    <tr>\n",
       "      <th>Africa</th>\n",
       "      <td>50</td>\n",
       "      <td>9450</td>\n",
       "      <td>2614.387519</td>\n",
       "      <td>100</td>\n",
       "      <td>494</td>\n",
       "      <td>118.110406</td>\n",
       "      <td>10</td>\n",
       "      <td>50</td>\n",
       "      <td>12.498931</td>\n",
       "      <td>11</td>\n",
       "      <td>97</td>\n",
       "      <td>25.961432</td>\n",
       "    </tr>\n",
       "    <tr>\n",
       "      <th>Antarctica</th>\n",
       "      <td>80</td>\n",
       "      <td>9370</td>\n",
       "      <td>2936.313786</td>\n",
       "      <td>106</td>\n",
       "      <td>495</td>\n",
       "      <td>114.401370</td>\n",
       "      <td>10</td>\n",
       "      <td>50</td>\n",
       "      <td>11.978316</td>\n",
       "      <td>10</td>\n",
       "      <td>97</td>\n",
       "      <td>24.880590</td>\n",
       "    </tr>\n",
       "    <tr>\n",
       "      <th>Asia</th>\n",
       "      <td>10</td>\n",
       "      <td>9390</td>\n",
       "      <td>2683.431665</td>\n",
       "      <td>103</td>\n",
       "      <td>499</td>\n",
       "      <td>112.047425</td>\n",
       "      <td>10</td>\n",
       "      <td>50</td>\n",
       "      <td>11.752819</td>\n",
       "      <td>10</td>\n",
       "      <td>99</td>\n",
       "      <td>26.109737</td>\n",
       "    </tr>\n",
       "    <tr>\n",
       "      <th>Australia</th>\n",
       "      <td>120</td>\n",
       "      <td>9410</td>\n",
       "      <td>2793.945560</td>\n",
       "      <td>104</td>\n",
       "      <td>496</td>\n",
       "      <td>116.374530</td>\n",
       "      <td>10</td>\n",
       "      <td>50</td>\n",
       "      <td>13.138226</td>\n",
       "      <td>10</td>\n",
       "      <td>97</td>\n",
       "      <td>26.057121</td>\n",
       "    </tr>\n",
       "    <tr>\n",
       "      <th>Europe</th>\n",
       "      <td>70</td>\n",
       "      <td>9480</td>\n",
       "      <td>2623.991892</td>\n",
       "      <td>101</td>\n",
       "      <td>500</td>\n",
       "      <td>116.808685</td>\n",
       "      <td>10</td>\n",
       "      <td>50</td>\n",
       "      <td>11.999544</td>\n",
       "      <td>10</td>\n",
       "      <td>99</td>\n",
       "      <td>26.185054</td>\n",
       "    </tr>\n",
       "    <tr>\n",
       "      <th>North America</th>\n",
       "      <td>30</td>\n",
       "      <td>9490</td>\n",
       "      <td>2841.216413</td>\n",
       "      <td>104</td>\n",
       "      <td>500</td>\n",
       "      <td>113.611333</td>\n",
       "      <td>11</td>\n",
       "      <td>50</td>\n",
       "      <td>12.319601</td>\n",
       "      <td>10</td>\n",
       "      <td>99</td>\n",
       "      <td>25.664821</td>\n",
       "    </tr>\n",
       "    <tr>\n",
       "      <th>South America</th>\n",
       "      <td>90</td>\n",
       "      <td>9500</td>\n",
       "      <td>2656.186804</td>\n",
       "      <td>104</td>\n",
       "      <td>499</td>\n",
       "      <td>117.375623</td>\n",
       "      <td>10</td>\n",
       "      <td>50</td>\n",
       "      <td>11.762450</td>\n",
       "      <td>10</td>\n",
       "      <td>98</td>\n",
       "      <td>25.724780</td>\n",
       "    </tr>\n",
       "  </tbody>\n",
       "</table>\n",
       "</div>"
      ],
      "text/plain": [
       "                ID                    Range  ...      Value Cost               \n",
       "               min   max          std   min  ...        std  min max        std\n",
       "Continent                                    ...                               \n",
       "Africa          50  9450  2614.387519   100  ...  12.498931   11  97  25.961432\n",
       "Antarctica      80  9370  2936.313786   106  ...  11.978316   10  97  24.880590\n",
       "Asia            10  9390  2683.431665   103  ...  11.752819   10  99  26.109737\n",
       "Australia      120  9410  2793.945560   104  ...  13.138226   10  97  26.057121\n",
       "Europe          70  9480  2623.991892   101  ...  11.999544   10  99  26.185054\n",
       "North America   30  9490  2841.216413   104  ...  12.319601   10  99  25.664821\n",
       "South America   90  9500  2656.186804   104  ...  11.762450   10  98  25.724780\n",
       "\n",
       "[7 rows x 12 columns]"
      ]
     },
     "execution_count": 159,
     "metadata": {},
     "output_type": "execute_result"
    }
   ],
   "source": [
    "myDF.groupby(\"Continent\").agg([\"min\",\"max\",\"std\"])             #12"
   ]
  },
  {
   "cell_type": "code",
   "execution_count": 160,
   "metadata": {
    "colab": {
     "base_uri": "https://localhost:8080/",
     "height": 513
    },
    "executionInfo": {
     "elapsed": 567,
     "status": "ok",
     "timestamp": 1637944792671,
     "user": {
      "displayName": "Mohamed Aliyar Mohamed Nijas",
      "photoUrl": "https://lh3.googleusercontent.com/a/default-user=s64",
      "userId": "08734262669778471711"
     },
     "user_tz": -330
    },
    "id": "CIp-yHpdyt83",
    "outputId": "331a45bd-992d-487d-87a3-346e1fef133f"
   },
   "outputs": [
    {
     "data": {
      "text/plain": [
       "Text(0, 0.5, 'mean values')"
      ]
     },
     "execution_count": 160,
     "metadata": {},
     "output_type": "execute_result"
    },
    {
     "data": {
      "image/png": "[encoded data removed]",
      "text/plain": [
       "<Figure size 720x432 with 1 Axes>"
      ]
     },
     "metadata": {
      "needs_background": "light"
     },
     "output_type": "display_data"
    }
   ],
   "source": [
    "df = myDF.groupby(\"Continent\").mean()\n",
    "grap = df.plot(kind = \"bar\",figsize = (10,6),fontsize = 13 )\n",
    "grap.set_title(\"Continent vs Mean\",fontsize = 22)\n",
    "grap.set_xlabel(\"Continent\")\n",
    "grap.set_ylabel(\"mean values\")                                            #13"
   ]
  },
  {
   "cell_type": "code",
   "execution_count": 161,
   "metadata": {
    "colab": {
     "base_uri": "https://localhost:8080/"
    },
    "executionInfo": {
     "elapsed": 31,
     "status": "ok",
     "timestamp": 1637944792673,
     "user": {
      "displayName": "Mohamed Aliyar Mohamed Nijas",
      "photoUrl": "https://lh3.googleusercontent.com/a/default-user=s64",
      "userId": "08734262669778471711"
     },
     "user_tz": -330
    },
    "id": "_T9d8G336ORJ",
    "outputId": "f0d32208-8735-4e66-81ac-acffd756b351"
   },
   "outputs": [
    {
     "data": {
      "text/plain": [
       "North America    143\n",
       "Africa           143\n",
       "Australia        142\n",
       "Europe           139\n",
       "South America    135\n",
       "Asia             129\n",
       "Antarctica       116\n",
       "Name: Continent, dtype: int64"
      ]
     },
     "execution_count": 161,
     "metadata": {},
     "output_type": "execute_result"
    }
   ],
   "source": [
    "myDF[\"Continent\"].value_counts()#14"
   ]
  },
  {
   "cell_type": "code",
   "execution_count": 162,
   "metadata": {
    "colab": {
     "base_uri": "https://localhost:8080/"
    },
    "executionInfo": {
     "elapsed": 29,
     "status": "ok",
     "timestamp": 1637944792675,
     "user": {
      "displayName": "Mohamed Aliyar Mohamed Nijas",
      "photoUrl": "https://lh3.googleusercontent.com/a/default-user=s64",
      "userId": "08734262669778471711"
     },
     "user_tz": -330
    },
    "id": "Own3aook7iRZ",
    "outputId": "c748a5a6-5850-428d-ec52-4c265bda01af"
   },
   "outputs": [
    {
     "data": {
      "text/plain": [
       "North America    15.100317\n",
       "Africa           15.100317\n",
       "Australia        14.994720\n",
       "Europe           14.677930\n",
       "South America    14.255544\n",
       "Asia             13.621964\n",
       "Antarctica       12.249208\n",
       "Name: Continent, dtype: float64"
      ]
     },
     "execution_count": 162,
     "metadata": {},
     "output_type": "execute_result"
    }
   ],
   "source": [
    "myDF[\"Continent\"].value_counts(normalize = True)*100 #15"
   ]
  },
  {
   "cell_type": "code",
   "execution_count": 163,
   "metadata": {
    "colab": {
     "base_uri": "https://localhost:8080/"
    },
    "executionInfo": {
     "elapsed": 25,
     "status": "ok",
     "timestamp": 1637944792676,
     "user": {
      "displayName": "Mohamed Aliyar Mohamed Nijas",
      "photoUrl": "https://lh3.googleusercontent.com/a/default-user=s64",
      "userId": "08734262669778471711"
     },
     "user_tz": -330
    },
    "id": "YZWRLcEd8Ak8",
    "outputId": "a7941259-bde5-4de2-863a-badedd19047b"
   },
   "outputs": [
    {
     "data": {
      "text/plain": [
       "array(['Asia', 'North America', 'Africa', 'Europe', 'Antarctica',\n",
       "       'South America', 'Australia'], dtype=object)"
      ]
     },
     "execution_count": 163,
     "metadata": {},
     "output_type": "execute_result"
    }
   ],
   "source": [
    "myDF[\"Continent\"].unique()#16        all  unique values"
   ]
  },
  {
   "cell_type": "code",
   "execution_count": 164,
   "metadata": {
    "colab": {
     "base_uri": "https://localhost:8080/"
    },
    "executionInfo": {
     "elapsed": 22,
     "status": "ok",
     "timestamp": 1637944792677,
     "user": {
      "displayName": "Mohamed Aliyar Mohamed Nijas",
      "photoUrl": "https://lh3.googleusercontent.com/a/default-user=s64",
      "userId": "08734262669778471711"
     },
     "user_tz": -330
    },
    "id": "DAWfHZR28OgL",
    "outputId": "804d30b1-c51d-465a-b27e-726c33416814"
   },
   "outputs": [
    {
     "data": {
      "text/plain": [
       "7"
      ]
     },
     "execution_count": 164,
     "metadata": {},
     "output_type": "execute_result"
    }
   ],
   "source": [
    "len(myDF[\"Continent\"].unique())#16   number of unique values"
   ]
  },
  {
   "cell_type": "code",
   "execution_count": 165,
   "metadata": {
    "colab": {
     "base_uri": "https://localhost:8080/"
    },
    "executionInfo": {
     "elapsed": 21,
     "status": "ok",
     "timestamp": 1637944792679,
     "user": {
      "displayName": "Mohamed Aliyar Mohamed Nijas",
      "photoUrl": "https://lh3.googleusercontent.com/a/default-user=s64",
      "userId": "08734262669778471711"
     },
     "user_tz": -330
    },
    "id": "QKNjdv-59F58",
    "outputId": "b56e352f-d645-4f64-d709-d2de7d3bad4f"
   },
   "outputs": [
    {
     "data": {
      "text/plain": [
       "35    20\n",
       "56    20\n",
       "73    18\n",
       "54    17\n",
       "97    17\n",
       "      ..\n",
       "77     5\n",
       "92     5\n",
       "94     5\n",
       "42     3\n",
       "24     2\n",
       "Name: Cost, Length: 90, dtype: int64"
      ]
     },
     "execution_count": 165,
     "metadata": {},
     "output_type": "execute_result"
    }
   ],
   "source": [
    "myDF[\"Cost\"].value_counts()#17"
   ]
  },
  {
   "cell_type": "code",
   "execution_count": 166,
   "metadata": {
    "executionInfo": {
     "elapsed": 19,
     "status": "ok",
     "timestamp": 1637944792680,
     "user": {
      "displayName": "Mohamed Aliyar Mohamed Nijas",
      "photoUrl": "https://lh3.googleusercontent.com/a/default-user=s64",
      "userId": "08734262669778471711"
     },
     "user_tz": -330
    },
    "id": "vP7fz28qyi73"
   },
   "outputs": [],
   "source": [
    "#17 description\n",
    "#above command gives the how many times each number is repeated  in the Cost column"
   ]
  },
  {
   "cell_type": "code",
   "execution_count": 167,
   "metadata": {
    "colab": {
     "base_uri": "https://localhost:8080/",
     "height": 281
    },
    "executionInfo": {
     "elapsed": 416,
     "status": "ok",
     "timestamp": 1637944793078,
     "user": {
      "displayName": "Mohamed Aliyar Mohamed Nijas",
      "photoUrl": "https://lh3.googleusercontent.com/a/default-user=s64",
      "userId": "08734262669778471711"
     },
     "user_tz": -330
    },
    "id": "HhqjQkGiL9Ty",
    "outputId": "d8707189-725e-46ac-d528-eef0db812a97"
   },
   "outputs": [
    {
     "data": {
      "image/png": "[encoded data removed]",
      "text/plain": [
       "<Figure size 432x288 with 1 Axes>"
      ]
     },
     "metadata": {
      "needs_background": "light"
     },
     "output_type": "display_data"
    }
   ],
   "source": [
    "df_cost = myDF[[\"Cost\"]]\n",
    "gf_hist = df_cost.hist() #18"
   ]
  },
  {
   "cell_type": "code",
   "execution_count": 168,
   "metadata": {
    "colab": {
     "base_uri": "https://localhost:8080/",
     "height": 316
    },
    "executionInfo": {
     "elapsed": 664,
     "status": "ok",
     "timestamp": 1637944793732,
     "user": {
      "displayName": "Mohamed Aliyar Mohamed Nijas",
      "photoUrl": "https://lh3.googleusercontent.com/a/default-user=s64",
      "userId": "08734262669778471711"
     },
     "user_tz": -330
    },
    "id": "Q15M0Hk2NB1o",
    "outputId": "0de0f729-6f9c-4605-de21-cbc2adc7bb35"
   },
   "outputs": [
    {
     "data": {
      "text/plain": [
       "array([[<matplotlib.axes._subplots.AxesSubplot object at 0x7f3ceee38c90>]],\n",
       "      dtype=object)"
      ]
     },
     "execution_count": 168,
     "metadata": {},
     "output_type": "execute_result"
    },
    {
     "data": {
      "image/png": "[encoded data removed]",
      "text/plain": [
       "<Figure size 432x288 with 1 Axes>"
      ]
     },
     "metadata": {
      "needs_background": "light"
     },
     "output_type": "display_data"
    }
   ],
   "source": [
    "df_cost.hist(bins = 50) #19"
   ]
  },
  {
   "cell_type": "code",
   "execution_count": 169,
   "metadata": {
    "colab": {
     "base_uri": "https://localhost:8080/"
    },
    "executionInfo": {
     "elapsed": 92,
     "status": "ok",
     "timestamp": 1637944793734,
     "user": {
      "displayName": "Mohamed Aliyar Mohamed Nijas",
      "photoUrl": "https://lh3.googleusercontent.com/a/default-user=s64",
      "userId": "08734262669778471711"
     },
     "user_tz": -330
    },
    "id": "EVpD4XUtNf9a",
    "outputId": "59a69802-562d-4ff4-fd96-9bd52f77ddc2"
   },
   "outputs": [
    {
     "data": {
      "text/plain": [
       "ID           0\n",
       "Range        0\n",
       "Value        0\n",
       "Type         2\n",
       "Zip Code     9\n",
       "Cost         0\n",
       "Continent    0\n",
       "dtype: int64"
      ]
     },
     "execution_count": 169,
     "metadata": {},
     "output_type": "execute_result"
    }
   ],
   "source": [
    "myDF.isna().sum()#20"
   ]
  },
  {
   "cell_type": "code",
   "execution_count": 170,
   "metadata": {
    "colab": {
     "base_uri": "https://localhost:8080/"
    },
    "executionInfo": {
     "elapsed": 83,
     "status": "ok",
     "timestamp": 1637944793735,
     "user": {
      "displayName": "Mohamed Aliyar Mohamed Nijas",
      "photoUrl": "https://lh3.googleusercontent.com/a/default-user=s64",
      "userId": "08734262669778471711"
     },
     "user_tz": -330
    },
    "id": "tRfxC7fUOZ-U",
    "outputId": "6a55b85e-2d35-444a-d1cd-44d695d2dc6c"
   },
   "outputs": [
    {
     "data": {
      "text/plain": [
       "936"
      ]
     },
     "execution_count": 170,
     "metadata": {},
     "output_type": "execute_result"
    }
   ],
   "source": [
    "len(myDF.dropna()) #21"
   ]
  },
  {
   "cell_type": "markdown",
   "metadata": {
    "id": "5PooqtzHvsQg"
   },
   "source": [
    " #22 number of missing values in Type column = **2**"
   ]
  },
  {
   "cell_type": "code",
   "execution_count": 171,
   "metadata": {
    "colab": {
     "base_uri": "https://localhost:8080/"
    },
    "executionInfo": {
     "elapsed": 76,
     "status": "ok",
     "timestamp": 1637944793736,
     "user": {
      "displayName": "Mohamed Aliyar Mohamed Nijas",
      "photoUrl": "https://lh3.googleusercontent.com/a/default-user=s64",
      "userId": "08734262669778471711"
     },
     "user_tz": -330
    },
    "id": "n69usUV4tqRu",
    "outputId": "de4b6ffb-0f64-479a-e43d-8be84d0b53ae"
   },
   "outputs": [
    {
     "data": {
      "text/plain": [
       "AAA    50\n",
       "N      47\n",
       "Z      44\n",
       "Q      44\n",
       "C      43\n",
       "V      41\n",
       "K      41\n",
       "A      40\n",
       "H      39\n",
       "Y      39\n",
       "G      38\n",
       "M      37\n",
       "X      37\n",
       "O      36\n",
       "U      36\n",
       "J      35\n",
       "L      35\n",
       "S      34\n",
       "I      33\n",
       "W      32\n",
       "D      30\n",
       "B      29\n",
       "T      28\n",
       "P      28\n",
       "R      25\n",
       "E      24\n",
       "NaN     2\n",
       "Name: Type, dtype: int64"
      ]
     },
     "execution_count": 171,
     "metadata": {},
     "output_type": "execute_result"
    }
   ],
   "source": [
    "myDF[\"Type\"].value_counts(dropna = False)#22  missing value is 2(TWO)"
   ]
  },
  {
   "cell_type": "code",
   "execution_count": 172,
   "metadata": {
    "colab": {
     "base_uri": "https://localhost:8080/",
     "height": 424
    },
    "executionInfo": {
     "elapsed": 72,
     "status": "ok",
     "timestamp": 1637944793738,
     "user": {
      "displayName": "Mohamed Aliyar Mohamed Nijas",
      "photoUrl": "https://lh3.googleusercontent.com/a/default-user=s64",
      "userId": "08734262669778471711"
     },
     "user_tz": -330
    },
    "id": "wUdAP4C-ggNg",
    "outputId": "d37c87ed-1f9d-4347-d977-8790e6d93af9"
   },
   "outputs": [
    {
     "data": {
      "text/html": [
       "<div>\n",
       "<style scoped>\n",
       "    .dataframe tbody tr th:only-of-type {\n",
       "        vertical-align: middle;\n",
       "    }\n",
       "\n",
       "    .dataframe tbody tr th {\n",
       "        vertical-align: top;\n",
       "    }\n",
       "\n",
       "    .dataframe thead th {\n",
       "        text-align: right;\n",
       "    }\n",
       "</style>\n",
       "<table border=\"1\" class=\"dataframe\">\n",
       "  <thead>\n",
       "    <tr style=\"text-align: right;\">\n",
       "      <th></th>\n",
       "      <th>ID</th>\n",
       "      <th>Range</th>\n",
       "      <th>Value</th>\n",
       "      <th>Type</th>\n",
       "      <th>Zip Code</th>\n",
       "      <th>Cost</th>\n",
       "      <th>Continent</th>\n",
       "    </tr>\n",
       "  </thead>\n",
       "  <tbody>\n",
       "    <tr>\n",
       "      <th>0</th>\n",
       "      <td>10</td>\n",
       "      <td>192</td>\n",
       "      <td>50</td>\n",
       "      <td>AAA</td>\n",
       "      <td>NXEYEM</td>\n",
       "      <td>56</td>\n",
       "      <td>Asia</td>\n",
       "    </tr>\n",
       "    <tr>\n",
       "      <th>2</th>\n",
       "      <td>30</td>\n",
       "      <td>378</td>\n",
       "      <td>28</td>\n",
       "      <td>X</td>\n",
       "      <td>IMGMFY</td>\n",
       "      <td>90</td>\n",
       "      <td>North America</td>\n",
       "    </tr>\n",
       "    <tr>\n",
       "      <th>4</th>\n",
       "      <td>50</td>\n",
       "      <td>468</td>\n",
       "      <td>33</td>\n",
       "      <td>J</td>\n",
       "      <td>HPQCMC</td>\n",
       "      <td>95</td>\n",
       "      <td>Africa</td>\n",
       "    </tr>\n",
       "    <tr>\n",
       "      <th>6</th>\n",
       "      <td>70</td>\n",
       "      <td>327</td>\n",
       "      <td>24</td>\n",
       "      <td>AAA</td>\n",
       "      <td>NLVQPY</td>\n",
       "      <td>25</td>\n",
       "      <td>Europe</td>\n",
       "    </tr>\n",
       "    <tr>\n",
       "      <th>7</th>\n",
       "      <td>80</td>\n",
       "      <td>495</td>\n",
       "      <td>50</td>\n",
       "      <td>Z</td>\n",
       "      <td>DLUMAX</td>\n",
       "      <td>70</td>\n",
       "      <td>Antarctica</td>\n",
       "    </tr>\n",
       "    <tr>\n",
       "      <th>...</th>\n",
       "      <td>...</td>\n",
       "      <td>...</td>\n",
       "      <td>...</td>\n",
       "      <td>...</td>\n",
       "      <td>...</td>\n",
       "      <td>...</td>\n",
       "      <td>...</td>\n",
       "    </tr>\n",
       "    <tr>\n",
       "      <th>945</th>\n",
       "      <td>9460</td>\n",
       "      <td>136</td>\n",
       "      <td>12</td>\n",
       "      <td>C</td>\n",
       "      <td>HGVBPV</td>\n",
       "      <td>51</td>\n",
       "      <td>South America</td>\n",
       "    </tr>\n",
       "    <tr>\n",
       "      <th>946</th>\n",
       "      <td>9470</td>\n",
       "      <td>316</td>\n",
       "      <td>46</td>\n",
       "      <td>L</td>\n",
       "      <td>SHBAUD</td>\n",
       "      <td>33</td>\n",
       "      <td>North America</td>\n",
       "    </tr>\n",
       "    <tr>\n",
       "      <th>947</th>\n",
       "      <td>9480</td>\n",
       "      <td>461</td>\n",
       "      <td>46</td>\n",
       "      <td>K</td>\n",
       "      <td>PUZUVO</td>\n",
       "      <td>12</td>\n",
       "      <td>Europe</td>\n",
       "    </tr>\n",
       "    <tr>\n",
       "      <th>948</th>\n",
       "      <td>9490</td>\n",
       "      <td>185</td>\n",
       "      <td>13</td>\n",
       "      <td>N</td>\n",
       "      <td>UMESZO</td>\n",
       "      <td>39</td>\n",
       "      <td>North America</td>\n",
       "    </tr>\n",
       "    <tr>\n",
       "      <th>949</th>\n",
       "      <td>9500</td>\n",
       "      <td>137</td>\n",
       "      <td>10</td>\n",
       "      <td>W</td>\n",
       "      <td>JOHHVL</td>\n",
       "      <td>10</td>\n",
       "      <td>South America</td>\n",
       "    </tr>\n",
       "  </tbody>\n",
       "</table>\n",
       "<p>947 rows × 7 columns</p>\n",
       "</div>"
      ],
      "text/plain": [
       "       ID  Range  Value Type Zip Code  Cost      Continent\n",
       "0      10    192     50  AAA   NXEYEM    56           Asia\n",
       "2      30    378     28    X   IMGMFY    90  North America\n",
       "4      50    468     33    J   HPQCMC    95         Africa\n",
       "6      70    327     24  AAA   NLVQPY    25         Europe\n",
       "7      80    495     50    Z   DLUMAX    70     Antarctica\n",
       "..    ...    ...    ...  ...      ...   ...            ...\n",
       "945  9460    136     12    C   HGVBPV    51  South America\n",
       "946  9470    316     46    L   SHBAUD    33  North America\n",
       "947  9480    461     46    K   PUZUVO    12         Europe\n",
       "948  9490    185     13    N   UMESZO    39  North America\n",
       "949  9500    137     10    W   JOHHVL    10  South America\n",
       "\n",
       "[947 rows x 7 columns]"
      ]
     },
     "execution_count": 172,
     "metadata": {},
     "output_type": "execute_result"
    }
   ],
   "source": [
    "myDF"
   ]
  },
  {
   "cell_type": "code",
   "execution_count": 173,
   "metadata": {
    "colab": {
     "base_uri": "https://localhost:8080/"
    },
    "executionInfo": {
     "elapsed": 72,
     "status": "ok",
     "timestamp": 1637944793739,
     "user": {
      "displayName": "Mohamed Aliyar Mohamed Nijas",
      "photoUrl": "https://lh3.googleusercontent.com/a/default-user=s64",
      "userId": "08734262669778471711"
     },
     "user_tz": -330
    },
    "id": "bNT45l2vwR76",
    "outputId": "a2bc8eab-1146-45ad-bf28-a5b529c7323e"
   },
   "outputs": [
    {
     "data": {
      "text/plain": [
       "0      AAA\n",
       "2        X\n",
       "4        J\n",
       "6      AAA\n",
       "7        Z\n",
       "      ... \n",
       "945      C\n",
       "946      L\n",
       "947      K\n",
       "948      N\n",
       "949      W\n",
       "Name: Type, Length: 947, dtype: object"
      ]
     },
     "execution_count": 173,
     "metadata": {},
     "output_type": "execute_result"
    }
   ],
   "source": [
    "myDF[\"Type\"] = myDF.Type.replace(np.nan,\"XXX\", regex = True) #23\n",
    "myDF[\"Type\"]"
   ]
  },
  {
   "cell_type": "code",
   "execution_count": 174,
   "metadata": {
    "executionInfo": {
     "elapsed": 68,
     "status": "ok",
     "timestamp": 1637944793740,
     "user": {
      "displayName": "Mohamed Aliyar Mohamed Nijas",
      "photoUrl": "https://lh3.googleusercontent.com/a/default-user=s64",
      "userId": "08734262669778471711"
     },
     "user_tz": -330
    },
    "id": "zXs9_AVzyGPY"
   },
   "outputs": [],
   "source": [
    "myDF.dropna(inplace = True)#24"
   ]
  },
  {
   "cell_type": "code",
   "execution_count": 175,
   "metadata": {
    "colab": {
     "base_uri": "https://localhost:8080/"
    },
    "executionInfo": {
     "elapsed": 69,
     "status": "ok",
     "timestamp": 1637944793741,
     "user": {
      "displayName": "Mohamed Aliyar Mohamed Nijas",
      "photoUrl": "https://lh3.googleusercontent.com/a/default-user=s64",
      "userId": "08734262669778471711"
     },
     "user_tz": -330
    },
    "id": "pkWNI0cy4rth",
    "outputId": "eb06eaec-9d73-4663-ab11-bf991f734e94"
   },
   "outputs": [
    {
     "data": {
      "text/plain": [
       "938"
      ]
     },
     "execution_count": 175,
     "metadata": {},
     "output_type": "execute_result"
    }
   ],
   "source": [
    "len(myDF.axes[0])#24      no.of  rows after drop the nan rows is 938"
   ]
  },
  {
   "cell_type": "code",
   "execution_count": 176,
   "metadata": {
    "colab": {
     "base_uri": "https://localhost:8080/",
     "height": 238
    },
    "executionInfo": {
     "elapsed": 65,
     "status": "ok",
     "timestamp": 1637944793742,
     "user": {
      "displayName": "Mohamed Aliyar Mohamed Nijas",
      "photoUrl": "https://lh3.googleusercontent.com/a/default-user=s64",
      "userId": "08734262669778471711"
     },
     "user_tz": -330
    },
    "id": "jo7GTC1G5GuT",
    "outputId": "de4cfd7d-6762-4f8f-e138-a0ae0fa09a83"
   },
   "outputs": [
    {
     "data": {
      "text/html": [
       "<div>\n",
       "<style scoped>\n",
       "    .dataframe tbody tr th:only-of-type {\n",
       "        vertical-align: middle;\n",
       "    }\n",
       "\n",
       "    .dataframe tbody tr th {\n",
       "        vertical-align: top;\n",
       "    }\n",
       "\n",
       "    .dataframe thead th {\n",
       "        text-align: right;\n",
       "    }\n",
       "</style>\n",
       "<table border=\"1\" class=\"dataframe\">\n",
       "  <thead>\n",
       "    <tr style=\"text-align: right;\">\n",
       "      <th></th>\n",
       "      <th>Range</th>\n",
       "      <th>Value</th>\n",
       "      <th>Type</th>\n",
       "      <th>Zip Code</th>\n",
       "      <th>Cost</th>\n",
       "      <th>Continent</th>\n",
       "    </tr>\n",
       "    <tr>\n",
       "      <th>ID</th>\n",
       "      <th></th>\n",
       "      <th></th>\n",
       "      <th></th>\n",
       "      <th></th>\n",
       "      <th></th>\n",
       "      <th></th>\n",
       "    </tr>\n",
       "  </thead>\n",
       "  <tbody>\n",
       "    <tr>\n",
       "      <th>10</th>\n",
       "      <td>192</td>\n",
       "      <td>50</td>\n",
       "      <td>AAA</td>\n",
       "      <td>NXEYEM</td>\n",
       "      <td>56</td>\n",
       "      <td>Asia</td>\n",
       "    </tr>\n",
       "    <tr>\n",
       "      <th>30</th>\n",
       "      <td>378</td>\n",
       "      <td>28</td>\n",
       "      <td>X</td>\n",
       "      <td>IMGMFY</td>\n",
       "      <td>90</td>\n",
       "      <td>North America</td>\n",
       "    </tr>\n",
       "    <tr>\n",
       "      <th>50</th>\n",
       "      <td>468</td>\n",
       "      <td>33</td>\n",
       "      <td>J</td>\n",
       "      <td>HPQCMC</td>\n",
       "      <td>95</td>\n",
       "      <td>Africa</td>\n",
       "    </tr>\n",
       "    <tr>\n",
       "      <th>70</th>\n",
       "      <td>327</td>\n",
       "      <td>24</td>\n",
       "      <td>AAA</td>\n",
       "      <td>NLVQPY</td>\n",
       "      <td>25</td>\n",
       "      <td>Europe</td>\n",
       "    </tr>\n",
       "    <tr>\n",
       "      <th>80</th>\n",
       "      <td>495</td>\n",
       "      <td>50</td>\n",
       "      <td>Z</td>\n",
       "      <td>DLUMAX</td>\n",
       "      <td>70</td>\n",
       "      <td>Antarctica</td>\n",
       "    </tr>\n",
       "  </tbody>\n",
       "</table>\n",
       "</div>"
      ],
      "text/plain": [
       "    Range  Value Type Zip Code  Cost      Continent\n",
       "ID                                                 \n",
       "10    192     50  AAA   NXEYEM    56           Asia\n",
       "30    378     28    X   IMGMFY    90  North America\n",
       "50    468     33    J   HPQCMC    95         Africa\n",
       "70    327     24  AAA   NLVQPY    25         Europe\n",
       "80    495     50    Z   DLUMAX    70     Antarctica"
      ]
     },
     "execution_count": 176,
     "metadata": {},
     "output_type": "execute_result"
    }
   ],
   "source": [
    "myDF = myDF.set_index(\"ID\") #Set the ‘ID’ column as the new index and delete the index name\n",
    "myDF.head(5)        #25"
   ]
  },
  {
   "cell_type": "code",
   "execution_count": 177,
   "metadata": {
    "colab": {
     "base_uri": "https://localhost:8080/"
    },
    "executionInfo": {
     "elapsed": 66,
     "status": "ok",
     "timestamp": 1637944793744,
     "user": {
      "displayName": "Mohamed Aliyar Mohamed Nijas",
      "photoUrl": "https://lh3.googleusercontent.com/a/default-user=s64",
      "userId": "08734262669778471711"
     },
     "user_tz": -330
    },
    "id": "s6hJuCgx6tlH",
    "outputId": "b36aca4d-feb7-4fa7-a15a-12c0d9552b1b"
   },
   "outputs": [
    {
     "data": {
      "text/plain": [
       "24"
      ]
     },
     "execution_count": 177,
     "metadata": {},
     "output_type": "execute_result"
    }
   ],
   "source": [
    "myDF.loc[70].Value #25 id 70 and column header is \"Value\" value is 24"
   ]
  },
  {
   "cell_type": "code",
   "execution_count": 178,
   "metadata": {
    "colab": {
     "base_uri": "https://localhost:8080/"
    },
    "executionInfo": {
     "elapsed": 64,
     "status": "ok",
     "timestamp": 1637944793746,
     "user": {
      "displayName": "Mohamed Aliyar Mohamed Nijas",
      "photoUrl": "https://lh3.googleusercontent.com/a/default-user=s64",
      "userId": "08734262669778471711"
     },
     "user_tz": -330
    },
    "id": "0VQKaePM9heN",
    "outputId": "bae62569-6049-442c-9a0f-b89b4f0def0a"
   },
   "outputs": [
    {
     "data": {
      "text/plain": [
       "Int64Index([  10,   30,   50,   70,   80,   90,  100,  110,  120,  130,\n",
       "            ...\n",
       "            9410, 9420, 9430, 9440, 9450, 9460, 9470, 9480, 9490, 9500],\n",
       "           dtype='int64', name='ID', length=938)"
      ]
     },
     "execution_count": 178,
     "metadata": {},
     "output_type": "execute_result"
    }
   ],
   "source": [
    "myDF.index#26 index of the current DF"
   ]
  },
  {
   "cell_type": "code",
   "execution_count": 179,
   "metadata": {
    "colab": {
     "base_uri": "https://localhost:8080/"
    },
    "executionInfo": {
     "elapsed": 61,
     "status": "ok",
     "timestamp": 1637944793747,
     "user": {
      "displayName": "Mohamed Aliyar Mohamed Nijas",
      "photoUrl": "https://lh3.googleusercontent.com/a/default-user=s64",
      "userId": "08734262669778471711"
     },
     "user_tz": -330
    },
    "id": "Vxiu66eS9z4y",
    "outputId": "295bd0e4-2a38-4c45-8455-0b479fb550ab"
   },
   "outputs": [
    {
     "data": {
      "text/plain": [
       "Index(['Range', 'Value', 'Type', 'Zip Code', 'Cost', 'Continent'], dtype='object')"
      ]
     },
     "execution_count": 179,
     "metadata": {},
     "output_type": "execute_result"
    }
   ],
   "source": [
    "myDF.columns#26 columns of the current DF"
   ]
  },
  {
   "cell_type": "code",
   "execution_count": 180,
   "metadata": {
    "colab": {
     "base_uri": "https://localhost:8080/"
    },
    "executionInfo": {
     "elapsed": 58,
     "status": "ok",
     "timestamp": 1637944793748,
     "user": {
      "displayName": "Mohamed Aliyar Mohamed Nijas",
      "photoUrl": "https://lh3.googleusercontent.com/a/default-user=s64",
      "userId": "08734262669778471711"
     },
     "user_tz": -330
    },
    "id": "N77KxwEy95Q0",
    "outputId": "aa749eab-e19d-400f-b1bd-1e8c4f220465"
   },
   "outputs": [
    {
     "data": {
      "text/plain": [
       "(938, 6)"
      ]
     },
     "execution_count": 180,
     "metadata": {},
     "output_type": "execute_result"
    }
   ],
   "source": [
    "myDF.shape#26 shape of the current DF"
   ]
  },
  {
   "cell_type": "code",
   "execution_count": 181,
   "metadata": {
    "colab": {
     "base_uri": "https://localhost:8080/",
     "height": 206
    },
    "executionInfo": {
     "elapsed": 55,
     "status": "ok",
     "timestamp": 1637944793749,
     "user": {
      "displayName": "Mohamed Aliyar Mohamed Nijas",
      "photoUrl": "https://lh3.googleusercontent.com/a/default-user=s64",
      "userId": "08734262669778471711"
     },
     "user_tz": -330
    },
    "id": "7pjUfe7J-UvE",
    "outputId": "81c61a41-f04e-41d4-bbf7-a61c30ad3f4b"
   },
   "outputs": [
    {
     "data": {
      "text/html": [
       "<div>\n",
       "<style scoped>\n",
       "    .dataframe tbody tr th:only-of-type {\n",
       "        vertical-align: middle;\n",
       "    }\n",
       "\n",
       "    .dataframe tbody tr th {\n",
       "        vertical-align: top;\n",
       "    }\n",
       "\n",
       "    .dataframe thead th {\n",
       "        text-align: right;\n",
       "    }\n",
       "</style>\n",
       "<table border=\"1\" class=\"dataframe\">\n",
       "  <thead>\n",
       "    <tr style=\"text-align: right;\">\n",
       "      <th></th>\n",
       "      <th>ID</th>\n",
       "      <th>Range</th>\n",
       "      <th>Value</th>\n",
       "      <th>Type</th>\n",
       "      <th>Zip Code</th>\n",
       "      <th>Cost</th>\n",
       "      <th>Continent</th>\n",
       "    </tr>\n",
       "  </thead>\n",
       "  <tbody>\n",
       "    <tr>\n",
       "      <th>0</th>\n",
       "      <td>10</td>\n",
       "      <td>192</td>\n",
       "      <td>50</td>\n",
       "      <td>AAA</td>\n",
       "      <td>NXEYEM</td>\n",
       "      <td>56</td>\n",
       "      <td>Asia</td>\n",
       "    </tr>\n",
       "    <tr>\n",
       "      <th>1</th>\n",
       "      <td>30</td>\n",
       "      <td>378</td>\n",
       "      <td>28</td>\n",
       "      <td>X</td>\n",
       "      <td>IMGMFY</td>\n",
       "      <td>90</td>\n",
       "      <td>North America</td>\n",
       "    </tr>\n",
       "    <tr>\n",
       "      <th>2</th>\n",
       "      <td>50</td>\n",
       "      <td>468</td>\n",
       "      <td>33</td>\n",
       "      <td>J</td>\n",
       "      <td>HPQCMC</td>\n",
       "      <td>95</td>\n",
       "      <td>Africa</td>\n",
       "    </tr>\n",
       "    <tr>\n",
       "      <th>3</th>\n",
       "      <td>70</td>\n",
       "      <td>327</td>\n",
       "      <td>24</td>\n",
       "      <td>AAA</td>\n",
       "      <td>NLVQPY</td>\n",
       "      <td>25</td>\n",
       "      <td>Europe</td>\n",
       "    </tr>\n",
       "    <tr>\n",
       "      <th>4</th>\n",
       "      <td>80</td>\n",
       "      <td>495</td>\n",
       "      <td>50</td>\n",
       "      <td>Z</td>\n",
       "      <td>DLUMAX</td>\n",
       "      <td>70</td>\n",
       "      <td>Antarctica</td>\n",
       "    </tr>\n",
       "  </tbody>\n",
       "</table>\n",
       "</div>"
      ],
      "text/plain": [
       "   ID  Range  Value Type Zip Code  Cost      Continent\n",
       "0  10    192     50  AAA   NXEYEM    56           Asia\n",
       "1  30    378     28    X   IMGMFY    90  North America\n",
       "2  50    468     33    J   HPQCMC    95         Africa\n",
       "3  70    327     24  AAA   NLVQPY    25         Europe\n",
       "4  80    495     50    Z   DLUMAX    70     Antarctica"
      ]
     },
     "execution_count": 181,
     "metadata": {},
     "output_type": "execute_result"
    }
   ],
   "source": [
    "myDF.reset_index(inplace = True)#26 after reset the index\n",
    "myDF.head(5)"
   ]
  },
  {
   "cell_type": "code",
   "execution_count": 182,
   "metadata": {
    "colab": {
     "base_uri": "https://localhost:8080/"
    },
    "executionInfo": {
     "elapsed": 55,
     "status": "ok",
     "timestamp": 1637944793750,
     "user": {
      "displayName": "Mohamed Aliyar Mohamed Nijas",
      "photoUrl": "https://lh3.googleusercontent.com/a/default-user=s64",
      "userId": "08734262669778471711"
     },
     "user_tz": -330
    },
    "id": "ogNhLpafACII",
    "outputId": "e1648777-8ffb-454f-e9e9-638d2c2b081a"
   },
   "outputs": [
    {
     "data": {
      "text/plain": [
       "RangeIndex(start=0, stop=938, step=1)"
      ]
     },
     "execution_count": 182,
     "metadata": {},
     "output_type": "execute_result"
    }
   ],
   "source": [
    "myDF.index#26 index after reset the index"
   ]
  },
  {
   "cell_type": "code",
   "execution_count": 183,
   "metadata": {
    "colab": {
     "base_uri": "https://localhost:8080/"
    },
    "executionInfo": {
     "elapsed": 52,
     "status": "ok",
     "timestamp": 1637944793750,
     "user": {
      "displayName": "Mohamed Aliyar Mohamed Nijas",
      "photoUrl": "https://lh3.googleusercontent.com/a/default-user=s64",
      "userId": "08734262669778471711"
     },
     "user_tz": -330
    },
    "id": "c48gGtZWAIgE",
    "outputId": "34a01626-529e-49bb-d4a4-38eef7328862"
   },
   "outputs": [
    {
     "data": {
      "text/plain": [
       "Index(['ID', 'Range', 'Value', 'Type', 'Zip Code', 'Cost', 'Continent'], dtype='object')"
      ]
     },
     "execution_count": 183,
     "metadata": {},
     "output_type": "execute_result"
    }
   ],
   "source": [
    "myDF.columns#26 columns after reset the index"
   ]
  },
  {
   "cell_type": "code",
   "execution_count": 184,
   "metadata": {
    "colab": {
     "base_uri": "https://localhost:8080/"
    },
    "executionInfo": {
     "elapsed": 50,
     "status": "ok",
     "timestamp": 1637944793751,
     "user": {
      "displayName": "Mohamed Aliyar Mohamed Nijas",
      "photoUrl": "https://lh3.googleusercontent.com/a/default-user=s64",
      "userId": "08734262669778471711"
     },
     "user_tz": -330
    },
    "id": "PxyZlVOCANKt",
    "outputId": "9cd011b5-381c-4078-e8e5-f4a7eb20413b"
   },
   "outputs": [
    {
     "data": {
      "text/plain": [
       "(938, 7)"
      ]
     },
     "execution_count": 184,
     "metadata": {},
     "output_type": "execute_result"
    }
   ],
   "source": [
    "myDF.shape#26 shape after reset the index"
   ]
  },
  {
   "cell_type": "code",
   "execution_count": 185,
   "metadata": {
    "colab": {
     "base_uri": "https://localhost:8080/",
     "height": 81
    },
    "executionInfo": {
     "elapsed": 49,
     "status": "ok",
     "timestamp": 1637944793753,
     "user": {
      "displayName": "Mohamed Aliyar Mohamed Nijas",
      "photoUrl": "https://lh3.googleusercontent.com/a/default-user=s64",
      "userId": "08734262669778471711"
     },
     "user_tz": -330
    },
    "id": "5HktUnbiBwvQ",
    "outputId": "70fd2f78-38b6-4851-d2aa-3538a2125fe8"
   },
   "outputs": [
    {
     "data": {
      "text/html": [
       "<div>\n",
       "<style scoped>\n",
       "    .dataframe tbody tr th:only-of-type {\n",
       "        vertical-align: middle;\n",
       "    }\n",
       "\n",
       "    .dataframe tbody tr th {\n",
       "        vertical-align: top;\n",
       "    }\n",
       "\n",
       "    .dataframe thead th {\n",
       "        text-align: right;\n",
       "    }\n",
       "</style>\n",
       "<table border=\"1\" class=\"dataframe\">\n",
       "  <thead>\n",
       "    <tr style=\"text-align: right;\">\n",
       "      <th></th>\n",
       "      <th>Value</th>\n",
       "    </tr>\n",
       "  </thead>\n",
       "  <tbody>\n",
       "    <tr>\n",
       "      <th>count</th>\n",
       "      <td>938.0</td>\n",
       "    </tr>\n",
       "  </tbody>\n",
       "</table>\n",
       "</div>"
      ],
      "text/plain": [
       "       Value\n",
       "count  938.0"
      ]
     },
     "execution_count": 185,
     "metadata": {},
     "output_type": "execute_result"
    }
   ],
   "source": [
    "df = myDF.describe()\n",
    "df.iloc[[0],[2]]#27 \n",
    "#describe method to see the statistics of myDF and fetch the value of the first row and the third column of the result"
   ]
  },
  {
   "cell_type": "code",
   "execution_count": 186,
   "metadata": {
    "colab": {
     "base_uri": "https://localhost:8080/"
    },
    "executionInfo": {
     "elapsed": 50,
     "status": "ok",
     "timestamp": 1637944793755,
     "user": {
      "displayName": "Mohamed Aliyar Mohamed Nijas",
      "photoUrl": "https://lh3.googleusercontent.com/a/default-user=s64",
      "userId": "08734262669778471711"
     },
     "user_tz": -330
    },
    "id": "sh7Z7WJ8RXta",
    "outputId": "cee44e78-6713-4853-d84f-7565c7de2616"
   },
   "outputs": [
    {
     "data": {
      "text/plain": [
       "Continent    \n",
       "Antarctica       115\n",
       "Asia             129\n",
       "South America    135\n",
       "Europe           138\n",
       "Africa           139\n",
       "North America    141\n",
       "Australia        141\n",
       "dtype: int64"
      ]
     },
     "execution_count": 186,
     "metadata": {},
     "output_type": "execute_result"
    }
   ],
   "source": [
    "myDF[[\"Continent\"]].value_counts().sort_values()#28\n",
    "#Sort the value_counts() of the ‘Continent’ column of the DF"
   ]
  },
  {
   "cell_type": "code",
   "execution_count": 187,
   "metadata": {
    "colab": {
     "base_uri": "https://localhost:8080/"
    },
    "executionInfo": {
     "elapsed": 49,
     "status": "ok",
     "timestamp": 1637944793757,
     "user": {
      "displayName": "Mohamed Aliyar Mohamed Nijas",
      "photoUrl": "https://lh3.googleusercontent.com/a/default-user=s64",
      "userId": "08734262669778471711"
     },
     "user_tz": -330
    },
    "id": "mLqYkNVNTUxm",
    "outputId": "afc62c8f-fd03-44c2-8e8a-56013b064849"
   },
   "outputs": [
    {
     "data": {
      "text/plain": [
       "Continent    \n",
       "Africa           139\n",
       "Antarctica       115\n",
       "Asia             129\n",
       "Australia        141\n",
       "Europe           138\n",
       "North America    141\n",
       "South America    135\n",
       "dtype: int64"
      ]
     },
     "execution_count": 187,
     "metadata": {},
     "output_type": "execute_result"
    }
   ],
   "source": [
    "myDF.value_counts([\"Continent\"]).sort_index()#28\n",
    "#sort the value_counts() of the ‘Continent’ column, based on the alphabetic order of the continents"
   ]
  },
  {
   "cell_type": "code",
   "execution_count": 188,
   "metadata": {
    "colab": {
     "base_uri": "https://localhost:8080/",
     "height": 175
    },
    "executionInfo": {
     "elapsed": 47,
     "status": "ok",
     "timestamp": 1637944793758,
     "user": {
      "displayName": "Mohamed Aliyar Mohamed Nijas",
      "photoUrl": "https://lh3.googleusercontent.com/a/default-user=s64",
      "userId": "08734262669778471711"
     },
     "user_tz": -330
    },
    "id": "HOrXR6krVsbM",
    "outputId": "05571a93-8cf8-4d2d-8984-aa874e844e1c"
   },
   "outputs": [
    {
     "data": {
      "text/html": [
       "<div>\n",
       "<style scoped>\n",
       "    .dataframe tbody tr th:only-of-type {\n",
       "        vertical-align: middle;\n",
       "    }\n",
       "\n",
       "    .dataframe tbody tr th {\n",
       "        vertical-align: top;\n",
       "    }\n",
       "\n",
       "    .dataframe thead th {\n",
       "        text-align: right;\n",
       "    }\n",
       "</style>\n",
       "<table border=\"1\" class=\"dataframe\">\n",
       "  <thead>\n",
       "    <tr style=\"text-align: right;\">\n",
       "      <th></th>\n",
       "      <th>ID</th>\n",
       "      <th>Range</th>\n",
       "      <th>Value</th>\n",
       "      <th>Type</th>\n",
       "      <th>Zip Code</th>\n",
       "      <th>Cost</th>\n",
       "      <th>Continent</th>\n",
       "    </tr>\n",
       "  </thead>\n",
       "  <tbody>\n",
       "    <tr>\n",
       "      <th>1</th>\n",
       "      <td>30</td>\n",
       "      <td>378</td>\n",
       "      <td>28</td>\n",
       "      <td>X</td>\n",
       "      <td>IMGMFY</td>\n",
       "      <td>90</td>\n",
       "      <td>North America</td>\n",
       "    </tr>\n",
       "    <tr>\n",
       "      <th>3</th>\n",
       "      <td>70</td>\n",
       "      <td>327</td>\n",
       "      <td>24</td>\n",
       "      <td>AAA</td>\n",
       "      <td>NLVQPY</td>\n",
       "      <td>25</td>\n",
       "      <td>Europe</td>\n",
       "    </tr>\n",
       "    <tr>\n",
       "      <th>5</th>\n",
       "      <td>90</td>\n",
       "      <td>115</td>\n",
       "      <td>30</td>\n",
       "      <td>S</td>\n",
       "      <td>KYJUHA</td>\n",
       "      <td>17</td>\n",
       "      <td>South America</td>\n",
       "    </tr>\n",
       "    <tr>\n",
       "      <th>7</th>\n",
       "      <td>110</td>\n",
       "      <td>301</td>\n",
       "      <td>29</td>\n",
       "      <td>A</td>\n",
       "      <td>OVINZU</td>\n",
       "      <td>69</td>\n",
       "      <td>South America</td>\n",
       "    </tr>\n",
       "  </tbody>\n",
       "</table>\n",
       "</div>"
      ],
      "text/plain": [
       "    ID  Range  Value Type Zip Code  Cost      Continent\n",
       "1   30    378     28    X   IMGMFY    90  North America\n",
       "3   70    327     24  AAA   NLVQPY    25         Europe\n",
       "5   90    115     30    S   KYJUHA    17  South America\n",
       "7  110    301     29    A   OVINZU    69  South America"
      ]
     },
     "execution_count": 188,
     "metadata": {},
     "output_type": "execute_result"
    }
   ],
   "source": [
    "myDF.loc[[1,3,5,7]]#29\n",
    "#Show all the columns of the following rows in one command. [1,3,5,7] "
   ]
  },
  {
   "cell_type": "code",
   "execution_count": 189,
   "metadata": {
    "colab": {
     "base_uri": "https://localhost:8080/",
     "height": 269
    },
    "executionInfo": {
     "elapsed": 22,
     "status": "ok",
     "timestamp": 1637944794383,
     "user": {
      "displayName": "Mohamed Aliyar Mohamed Nijas",
      "photoUrl": "https://lh3.googleusercontent.com/a/default-user=s64",
      "userId": "08734262669778471711"
     },
     "user_tz": -330
    },
    "id": "hyb6S_VkWI92",
    "outputId": "d6dd1197-c054-43bf-f726-a525724cfee8"
   },
   "outputs": [
    {
     "data": {
      "text/html": [
       "<div>\n",
       "<style scoped>\n",
       "    .dataframe tbody tr th:only-of-type {\n",
       "        vertical-align: middle;\n",
       "    }\n",
       "\n",
       "    .dataframe tbody tr th {\n",
       "        vertical-align: top;\n",
       "    }\n",
       "\n",
       "    .dataframe thead th {\n",
       "        text-align: right;\n",
       "    }\n",
       "</style>\n",
       "<table border=\"1\" class=\"dataframe\">\n",
       "  <thead>\n",
       "    <tr style=\"text-align: right;\">\n",
       "      <th></th>\n",
       "      <th>Type</th>\n",
       "      <th>Continent</th>\n",
       "    </tr>\n",
       "  </thead>\n",
       "  <tbody>\n",
       "    <tr>\n",
       "      <th>0</th>\n",
       "      <td>AAA</td>\n",
       "      <td>Asia</td>\n",
       "    </tr>\n",
       "    <tr>\n",
       "      <th>1</th>\n",
       "      <td>X</td>\n",
       "      <td>North America</td>\n",
       "    </tr>\n",
       "    <tr>\n",
       "      <th>2</th>\n",
       "      <td>J</td>\n",
       "      <td>Africa</td>\n",
       "    </tr>\n",
       "    <tr>\n",
       "      <th>3</th>\n",
       "      <td>AAA</td>\n",
       "      <td>Europe</td>\n",
       "    </tr>\n",
       "    <tr>\n",
       "      <th>4</th>\n",
       "      <td>Z</td>\n",
       "      <td>Antarctica</td>\n",
       "    </tr>\n",
       "    <tr>\n",
       "      <th>5</th>\n",
       "      <td>S</td>\n",
       "      <td>South America</td>\n",
       "    </tr>\n",
       "    <tr>\n",
       "      <th>6</th>\n",
       "      <td>K</td>\n",
       "      <td>South America</td>\n",
       "    </tr>\n",
       "  </tbody>\n",
       "</table>\n",
       "</div>"
      ],
      "text/plain": [
       "  Type      Continent\n",
       "0  AAA           Asia\n",
       "1    X  North America\n",
       "2    J         Africa\n",
       "3  AAA         Europe\n",
       "4    Z     Antarctica\n",
       "5    S  South America\n",
       "6    K  South America"
      ]
     },
     "execution_count": 189,
     "metadata": {},
     "output_type": "execute_result"
    }
   ],
   "source": [
    "myDF[[\"Type\",\"Continent\"]].loc[range(7)]#29\n",
    "# show the first 7 rows of the following columns: ‘Type’ and ‘Continent’"
   ]
  },
  {
   "cell_type": "code",
   "execution_count": 190,
   "metadata": {
    "colab": {
     "base_uri": "https://localhost:8080/",
     "height": 112
    },
    "executionInfo": {
     "elapsed": 22,
     "status": "ok",
     "timestamp": 1637944794384,
     "user": {
      "displayName": "Mohamed Aliyar Mohamed Nijas",
      "photoUrl": "https://lh3.googleusercontent.com/a/default-user=s64",
      "userId": "08734262669778471711"
     },
     "user_tz": -330
    },
    "id": "j1mhw6SaWu9N",
    "outputId": "0fd2db2b-fb6b-4619-d988-154a2e046197"
   },
   "outputs": [
    {
     "data": {
      "text/html": [
       "<div>\n",
       "<style scoped>\n",
       "    .dataframe tbody tr th:only-of-type {\n",
       "        vertical-align: middle;\n",
       "    }\n",
       "\n",
       "    .dataframe tbody tr th {\n",
       "        vertical-align: top;\n",
       "    }\n",
       "\n",
       "    .dataframe thead th {\n",
       "        text-align: right;\n",
       "    }\n",
       "</style>\n",
       "<table border=\"1\" class=\"dataframe\">\n",
       "  <thead>\n",
       "    <tr style=\"text-align: right;\">\n",
       "      <th></th>\n",
       "      <th>Value</th>\n",
       "    </tr>\n",
       "  </thead>\n",
       "  <tbody>\n",
       "    <tr>\n",
       "      <th>687</th>\n",
       "      <td>42</td>\n",
       "    </tr>\n",
       "    <tr>\n",
       "      <th>743</th>\n",
       "      <td>37</td>\n",
       "    </tr>\n",
       "  </tbody>\n",
       "</table>\n",
       "</div>"
      ],
      "text/plain": [
       "     Value\n",
       "687     42\n",
       "743     37"
      ]
     },
     "execution_count": 190,
     "metadata": {},
     "output_type": "execute_result"
    }
   ],
   "source": [
    "myDF[lambda x:  x.Type == \"XXX\"][[\"Value\"]]#30\n",
    "#Show the ‘Value’ of the ‘Type’ that are equal to ’XXX’"
   ]
  }
 ],
 "metadata": {
  "colab": {
   "authorship_tag": "ABX9TyMRtLEDy4JuMpL92MuPk73C",
   "collapsed_sections": [],
   "name": "Assignment04.ipynb",
   "provenance": []
  },
  "kernelspec": {
   "display_name": "Python 3",
   "language": "python",
   "name": "python3"
  },
  "language_info": {
   "codemirror_mode": {
    "name": "ipython",
    "version": 3
   },
   "file_extension": ".py",
   "mimetype": "text/x-python",
   "name": "python",
   "nbconvert_exporter": "python",
   "pygments_lexer": "ipython3",
   "version": "3.8.8"
  }
 },
 "nbformat": 4,
 "nbformat_minor": 1
}
