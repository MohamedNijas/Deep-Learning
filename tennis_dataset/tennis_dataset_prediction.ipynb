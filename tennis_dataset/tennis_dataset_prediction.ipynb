{
 "cells": [
  {
   "cell_type": "code",
   "execution_count": 24,
   "metadata": {
    "executionInfo": {
     "elapsed": 396,
     "status": "ok",
     "timestamp": 1636527759182,
     "user": {
      "displayName": "Mohamed Aliyar Mohamed Nijas",
      "photoUrl": "https://lh3.googleusercontent.com/a/default-user=s64",
      "userId": "08734262669778471711"
     },
     "user_tz": -330
    },
    "id": "yKVm9gELlyXD"
   },
   "outputs": [],
   "source": [
    "import pandas as pd\n",
    "import numpy as np\n",
    "from sklearn.tree import DecisionTreeClassifier\n",
    "from sklearn.model_selection import train_test_split\n",
    "from sklearn.preprocessing import LabelEncoder #import the libraries"
   ]
  },
  {
   "cell_type": "code",
   "execution_count": 25,
   "metadata": {
    "executionInfo": {
     "elapsed": 31,
     "status": "ok",
     "timestamp": 1636527759587,
     "user": {
      "displayName": "Mohamed Aliyar Mohamed Nijas",
      "photoUrl": "https://lh3.googleusercontent.com/a/default-user=s64",
      "userId": "08734262669778471711"
     },
     "user_tz": -330
    },
    "id": "cXJYnBWagyKI"
   },
   "outputs": [],
   "source": [
    "tennis = pd.read_csv(\"tennis_dataset.csv\") #import the dataset"
   ]
  },
  {
   "cell_type": "code",
   "execution_count": 26,
   "metadata": {
    "colab": {
     "base_uri": "https://localhost:8080/",
     "height": 204
    },
    "executionInfo": {
     "elapsed": 32,
     "status": "ok",
     "timestamp": 1636527759590,
     "user": {
      "displayName": "Mohamed Aliyar Mohamed Nijas",
      "photoUrl": "https://lh3.googleusercontent.com/a/default-user=s64",
      "userId": "08734262669778471711"
     },
     "user_tz": -330
    },
    "id": "hjmGca73h6zO",
    "outputId": "5a12e383-0b41-430b-fba4-526a3d08c796"
   },
   "outputs": [
    {
     "data": {
      "text/html": [
       "<div>\n",
       "<style scoped>\n",
       "    .dataframe tbody tr th:only-of-type {\n",
       "        vertical-align: middle;\n",
       "    }\n",
       "\n",
       "    .dataframe tbody tr th {\n",
       "        vertical-align: top;\n",
       "    }\n",
       "\n",
       "    .dataframe thead th {\n",
       "        text-align: right;\n",
       "    }\n",
       "</style>\n",
       "<table border=\"1\" class=\"dataframe\">\n",
       "  <thead>\n",
       "    <tr style=\"text-align: right;\">\n",
       "      <th></th>\n",
       "      <th>day</th>\n",
       "      <th>outlook</th>\n",
       "      <th>temp</th>\n",
       "      <th>humidity</th>\n",
       "      <th>wind</th>\n",
       "      <th>play</th>\n",
       "    </tr>\n",
       "  </thead>\n",
       "  <tbody>\n",
       "    <tr>\n",
       "      <th>0</th>\n",
       "      <td>D1</td>\n",
       "      <td>Sunny</td>\n",
       "      <td>Hot</td>\n",
       "      <td>High</td>\n",
       "      <td>Weak</td>\n",
       "      <td>No</td>\n",
       "    </tr>\n",
       "    <tr>\n",
       "      <th>1</th>\n",
       "      <td>D2</td>\n",
       "      <td>Sunny</td>\n",
       "      <td>Hot</td>\n",
       "      <td>High</td>\n",
       "      <td>Strong</td>\n",
       "      <td>No</td>\n",
       "    </tr>\n",
       "    <tr>\n",
       "      <th>2</th>\n",
       "      <td>D3</td>\n",
       "      <td>Overcast</td>\n",
       "      <td>Hot</td>\n",
       "      <td>High</td>\n",
       "      <td>Weak</td>\n",
       "      <td>Yes</td>\n",
       "    </tr>\n",
       "    <tr>\n",
       "      <th>3</th>\n",
       "      <td>D4</td>\n",
       "      <td>Rain</td>\n",
       "      <td>Mild</td>\n",
       "      <td>High</td>\n",
       "      <td>Weak</td>\n",
       "      <td>Yes</td>\n",
       "    </tr>\n",
       "    <tr>\n",
       "      <th>4</th>\n",
       "      <td>D5</td>\n",
       "      <td>Rain</td>\n",
       "      <td>Cool</td>\n",
       "      <td>Normal</td>\n",
       "      <td>Weak</td>\n",
       "      <td>Yes</td>\n",
       "    </tr>\n",
       "  </tbody>\n",
       "</table>\n",
       "</div>"
      ],
      "text/plain": [
       "  day   outlook  temp humidity    wind play\n",
       "0  D1     Sunny   Hot     High    Weak   No\n",
       "1  D2     Sunny   Hot     High  Strong   No\n",
       "2  D3  Overcast   Hot     High    Weak  Yes\n",
       "3  D4      Rain  Mild     High    Weak  Yes\n",
       "4  D5      Rain  Cool   Normal    Weak  Yes"
      ]
     },
     "execution_count": 26,
     "metadata": {},
     "output_type": "execute_result"
    }
   ],
   "source": [
    "tennis.head()#view the dataset in the working enviroment"
   ]
  },
  {
   "cell_type": "code",
   "execution_count": 27,
   "metadata": {
    "executionInfo": {
     "elapsed": 26,
     "status": "ok",
     "timestamp": 1636527759592,
     "user": {
      "displayName": "Mohamed Aliyar Mohamed Nijas",
      "photoUrl": "https://lh3.googleusercontent.com/a/default-user=s64",
      "userId": "08734262669778471711"
     },
     "user_tz": -330
    },
    "id": "J2tzyMCxiKgO"
   },
   "outputs": [],
   "source": [
    "model_tennis = DecisionTreeClassifier()#name the DecisionTreeClassifier library as model "
   ]
  },
  {
   "cell_type": "code",
   "execution_count": 28,
   "metadata": {
    "executionInfo": {
     "elapsed": 26,
     "status": "ok",
     "timestamp": 1636527759594,
     "user": {
      "displayName": "Mohamed Aliyar Mohamed Nijas",
      "photoUrl": "https://lh3.googleusercontent.com/a/default-user=s64",
      "userId": "08734262669778471711"
     },
     "user_tz": -330
    },
    "id": "ngK5-h286fMX"
   },
   "outputs": [],
   "source": [
    "new_tennis = tennis.drop(\"day\",axis = \"columns\") #drop the day column"
   ]
  },
  {
   "cell_type": "code",
   "execution_count": 29,
   "metadata": {
    "executionInfo": {
     "elapsed": 26,
     "status": "ok",
     "timestamp": 1636527759595,
     "user": {
      "displayName": "Mohamed Aliyar Mohamed Nijas",
      "photoUrl": "https://lh3.googleusercontent.com/a/default-user=s64",
      "userId": "08734262669778471711"
     },
     "user_tz": -330
    },
    "id": "5qNiSzTP_dRv"
   },
   "outputs": [],
   "source": [
    "le_encoder = LabelEncoder() #name the LabelEncoder library as le_encoder     "
   ]
  },
  {
   "cell_type": "code",
   "execution_count": 30,
   "metadata": {
    "executionInfo": {
     "elapsed": 26,
     "status": "ok",
     "timestamp": 1636527759597,
     "user": {
      "displayName": "Mohamed Aliyar Mohamed Nijas",
      "photoUrl": "https://lh3.googleusercontent.com/a/default-user=s64",
      "userId": "08734262669778471711"
     },
     "user_tz": -330
    },
    "id": "1tfFOva2udzj"
   },
   "outputs": [],
   "source": [
    "tennis_columns = new_tennis.columns #create the columns name array in the dataset "
   ]
  },
  {
   "cell_type": "code",
   "execution_count": 31,
   "metadata": {
    "executionInfo": {
     "elapsed": 27,
     "status": "ok",
     "timestamp": 1636527759600,
     "user": {
      "displayName": "Mohamed Aliyar Mohamed Nijas",
      "photoUrl": "https://lh3.googleusercontent.com/a/default-user=s64",
      "userId": "08734262669778471711"
     },
     "user_tz": -330
    },
    "id": "WJ2EIdW-uaQX"
   },
   "outputs": [],
   "source": [
    "for column_name in tennis_columns:\n",
    "  new_tennis[column_name] = le_encoder.fit_transform(tennis[column_name])#change the row text to integer"
   ]
  },
  {
   "cell_type": "code",
   "execution_count": 32,
   "metadata": {
    "colab": {
     "base_uri": "https://localhost:8080/",
     "height": 204
    },
    "executionInfo": {
     "elapsed": 566,
     "status": "ok",
     "timestamp": 1636527760141,
     "user": {
      "displayName": "Mohamed Aliyar Mohamed Nijas",
      "photoUrl": "https://lh3.googleusercontent.com/a/default-user=s64",
      "userId": "08734262669778471711"
     },
     "user_tz": -330
    },
    "id": "7OLCy0BIu_zJ",
    "outputId": "14686a96-9935-4624-d96a-296b583270ff"
   },
   "outputs": [
    {
     "data": {
      "text/html": [
       "<div>\n",
       "<style scoped>\n",
       "    .dataframe tbody tr th:only-of-type {\n",
       "        vertical-align: middle;\n",
       "    }\n",
       "\n",
       "    .dataframe tbody tr th {\n",
       "        vertical-align: top;\n",
       "    }\n",
       "\n",
       "    .dataframe thead th {\n",
       "        text-align: right;\n",
       "    }\n",
       "</style>\n",
       "<table border=\"1\" class=\"dataframe\">\n",
       "  <thead>\n",
       "    <tr style=\"text-align: right;\">\n",
       "      <th></th>\n",
       "      <th>outlook</th>\n",
       "      <th>temp</th>\n",
       "      <th>humidity</th>\n",
       "      <th>wind</th>\n",
       "      <th>play</th>\n",
       "    </tr>\n",
       "  </thead>\n",
       "  <tbody>\n",
       "    <tr>\n",
       "      <th>0</th>\n",
       "      <td>2</td>\n",
       "      <td>1</td>\n",
       "      <td>0</td>\n",
       "      <td>1</td>\n",
       "      <td>0</td>\n",
       "    </tr>\n",
       "    <tr>\n",
       "      <th>1</th>\n",
       "      <td>2</td>\n",
       "      <td>1</td>\n",
       "      <td>0</td>\n",
       "      <td>0</td>\n",
       "      <td>0</td>\n",
       "    </tr>\n",
       "    <tr>\n",
       "      <th>2</th>\n",
       "      <td>0</td>\n",
       "      <td>1</td>\n",
       "      <td>0</td>\n",
       "      <td>1</td>\n",
       "      <td>1</td>\n",
       "    </tr>\n",
       "    <tr>\n",
       "      <th>3</th>\n",
       "      <td>1</td>\n",
       "      <td>2</td>\n",
       "      <td>0</td>\n",
       "      <td>1</td>\n",
       "      <td>1</td>\n",
       "    </tr>\n",
       "    <tr>\n",
       "      <th>4</th>\n",
       "      <td>1</td>\n",
       "      <td>0</td>\n",
       "      <td>1</td>\n",
       "      <td>1</td>\n",
       "      <td>1</td>\n",
       "    </tr>\n",
       "  </tbody>\n",
       "</table>\n",
       "</div>"
      ],
      "text/plain": [
       "   outlook  temp  humidity  wind  play\n",
       "0        2     1         0     1     0\n",
       "1        2     1         0     0     0\n",
       "2        0     1         0     1     1\n",
       "3        1     2         0     1     1\n",
       "4        1     0         1     1     1"
      ]
     },
     "execution_count": 32,
     "metadata": {},
     "output_type": "execute_result"
    }
   ],
   "source": [
    "new_tennis.head()#view the integer data in the working enviroment"
   ]
  },
  {
   "cell_type": "code",
   "execution_count": 33,
   "metadata": {
    "colab": {
     "base_uri": "https://localhost:8080/",
     "height": 204
    },
    "executionInfo": {
     "elapsed": 58,
     "status": "ok",
     "timestamp": 1636527760144,
     "user": {
      "displayName": "Mohamed Aliyar Mohamed Nijas",
      "photoUrl": "https://lh3.googleusercontent.com/a/default-user=s64",
      "userId": "08734262669778471711"
     },
     "user_tz": -330
    },
    "id": "Rc_Yu37C2DIa",
    "outputId": "ab9a68de-c27b-4c09-9882-bea35120cb8b"
   },
   "outputs": [
    {
     "data": {
      "text/html": [
       "<div>\n",
       "<style scoped>\n",
       "    .dataframe tbody tr th:only-of-type {\n",
       "        vertical-align: middle;\n",
       "    }\n",
       "\n",
       "    .dataframe tbody tr th {\n",
       "        vertical-align: top;\n",
       "    }\n",
       "\n",
       "    .dataframe thead th {\n",
       "        text-align: right;\n",
       "    }\n",
       "</style>\n",
       "<table border=\"1\" class=\"dataframe\">\n",
       "  <thead>\n",
       "    <tr style=\"text-align: right;\">\n",
       "      <th></th>\n",
       "      <th>outlook</th>\n",
       "      <th>temp</th>\n",
       "      <th>humidity</th>\n",
       "      <th>wind</th>\n",
       "    </tr>\n",
       "  </thead>\n",
       "  <tbody>\n",
       "    <tr>\n",
       "      <th>0</th>\n",
       "      <td>2</td>\n",
       "      <td>1</td>\n",
       "      <td>0</td>\n",
       "      <td>1</td>\n",
       "    </tr>\n",
       "    <tr>\n",
       "      <th>1</th>\n",
       "      <td>2</td>\n",
       "      <td>1</td>\n",
       "      <td>0</td>\n",
       "      <td>0</td>\n",
       "    </tr>\n",
       "    <tr>\n",
       "      <th>2</th>\n",
       "      <td>0</td>\n",
       "      <td>1</td>\n",
       "      <td>0</td>\n",
       "      <td>1</td>\n",
       "    </tr>\n",
       "    <tr>\n",
       "      <th>3</th>\n",
       "      <td>1</td>\n",
       "      <td>2</td>\n",
       "      <td>0</td>\n",
       "      <td>1</td>\n",
       "    </tr>\n",
       "    <tr>\n",
       "      <th>4</th>\n",
       "      <td>1</td>\n",
       "      <td>0</td>\n",
       "      <td>1</td>\n",
       "      <td>1</td>\n",
       "    </tr>\n",
       "  </tbody>\n",
       "</table>\n",
       "</div>"
      ],
      "text/plain": [
       "   outlook  temp  humidity  wind\n",
       "0        2     1         0     1\n",
       "1        2     1         0     0\n",
       "2        0     1         0     1\n",
       "3        1     2         0     1\n",
       "4        1     0         1     1"
      ]
     },
     "execution_count": 33,
     "metadata": {},
     "output_type": "execute_result"
    }
   ],
   "source": [
    "x = new_tennis.drop(\"play\",axis = \"columns\")#create  the x data by droping label\n",
    "y = new_tennis[\"play\"]                      #create the label data\n",
    "x.head()"
   ]
  },
  {
   "cell_type": "code",
   "execution_count": 34,
   "metadata": {
    "colab": {
     "base_uri": "https://localhost:8080/"
    },
    "executionInfo": {
     "elapsed": 57,
     "status": "ok",
     "timestamp": 1636527760148,
     "user": {
      "displayName": "Mohamed Aliyar Mohamed Nijas",
      "photoUrl": "https://lh3.googleusercontent.com/a/default-user=s64",
      "userId": "08734262669778471711"
     },
     "user_tz": -330
    },
    "id": "i5pqOGK7iXh5",
    "outputId": "50e6171b-bf47-473e-f6c8-f1a2e515757f"
   },
   "outputs": [
    {
     "data": {
      "text/plain": [
       "0    0\n",
       "1    0\n",
       "2    1\n",
       "3    1\n",
       "4    1\n",
       "Name: play, dtype: int64"
      ]
     },
     "execution_count": 34,
     "metadata": {},
     "output_type": "execute_result"
    }
   ],
   "source": [
    "y.head()#view the label data"
   ]
  },
  {
   "cell_type": "code",
   "execution_count": 35,
   "metadata": {
    "colab": {
     "base_uri": "https://localhost:8080/"
    },
    "executionInfo": {
     "elapsed": 51,
     "status": "ok",
     "timestamp": 1636527760151,
     "user": {
      "displayName": "Mohamed Aliyar Mohamed Nijas",
      "photoUrl": "https://lh3.googleusercontent.com/a/default-user=s64",
      "userId": "08734262669778471711"
     },
     "user_tz": -330
    },
    "id": "xdyuFura3Pd2",
    "outputId": "d2284bda-bb3e-4f64-99e5-829b9a3e78c6"
   },
   "outputs": [
    {
     "data": {
      "text/plain": [
       "DecisionTreeClassifier(ccp_alpha=0.0, class_weight=None, criterion='gini',\n",
       "                       max_depth=None, max_features=None, max_leaf_nodes=None,\n",
       "                       min_impurity_decrease=0.0, min_impurity_split=None,\n",
       "                       min_samples_leaf=1, min_samples_split=2,\n",
       "                       min_weight_fraction_leaf=0.0, presort='deprecated',\n",
       "                       random_state=None, splitter='best')"
      ]
     },
     "execution_count": 35,
     "metadata": {},
     "output_type": "execute_result"
    }
   ],
   "source": [
    "model_tennis.fit(x,y) #train the model"
   ]
  },
  {
   "cell_type": "markdown",
   "metadata": {
    "id": "pvu9RJpcQTlO"
   },
   "source": [
    "Here in the    \n",
    "1st column :- **Overcast:0,Rain:1,Sunny:2**,   \n",
    "2nd column :- **Cool:0,Hot:1,Mild:2**,   \n",
    "3rd column :- **Normal:1,High:0**,   \n",
    "4th column :- **Weak:1,Strong:0**,        \n",
    "5th column :-**No:0,Yes:1**"
   ]
  },
  {
   "cell_type": "code",
   "execution_count": 36,
   "metadata": {
    "executionInfo": {
     "elapsed": 49,
     "status": "ok",
     "timestamp": 1636527760155,
     "user": {
      "displayName": "Mohamed Aliyar Mohamed Nijas",
      "photoUrl": "https://lh3.googleusercontent.com/a/default-user=s64",
      "userId": "08734262669778471711"
     },
     "user_tz": -330
    },
    "id": "Ma98t2yNTsPO"
   },
   "outputs": [],
   "source": [
    "prediction_yes_no =  {1:\"Yes\",0:\"No\"} # craete a for text output for number"
   ]
  },
  {
   "cell_type": "markdown",
   "metadata": {
    "id": "VXZzNBC0UxD0"
   },
   "source": [
    "Prediction for **[sunny,Mild,Normal,Weak]** True output is **Yes**\n"
   ]
  },
  {
   "cell_type": "code",
   "execution_count": 37,
   "metadata": {
    "colab": {
     "base_uri": "https://localhost:8080/",
     "height": 35
    },
    "executionInfo": {
     "elapsed": 48,
     "status": "ok",
     "timestamp": 1636527760156,
     "user": {
      "displayName": "Mohamed Aliyar Mohamed Nijas",
      "photoUrl": "https://lh3.googleusercontent.com/a/default-user=s64",
      "userId": "08734262669778471711"
     },
     "user_tz": -330
    },
    "id": "Fd67RhQH74f6",
    "outputId": "ce857c71-c1ce-4769-de3e-ac52f7b18d54"
   },
   "outputs": [
    {
     "data": {
      "application/vnd.google.colaboratory.intrinsic+json": {
       "type": "string"
      },
      "text/plain": [
       "'Yes'"
      ]
     },
     "execution_count": 37,
     "metadata": {},
     "output_type": "execute_result"
    }
   ],
   "source": [
    "outputA = model_tennis.predict([[2,2,1,1]])[0] #output for [sunny,Mild,Normal,Weak]\n",
    "prediction_yes_no[outputA]"
   ]
  },
  {
   "cell_type": "markdown",
   "metadata": {
    "id": "ufQZbu9MVMmE"
   },
   "source": [
    "Prediction for **[Rain,Hot,Normal,Weak]** True output is **No**"
   ]
  },
  {
   "cell_type": "code",
   "execution_count": 38,
   "metadata": {
    "colab": {
     "base_uri": "https://localhost:8080/",
     "height": 35
    },
    "executionInfo": {
     "elapsed": 46,
     "status": "ok",
     "timestamp": 1636527760158,
     "user": {
      "displayName": "Mohamed Aliyar Mohamed Nijas",
      "photoUrl": "https://lh3.googleusercontent.com/a/default-user=s64",
      "userId": "08734262669778471711"
     },
     "user_tz": -330
    },
    "id": "Ylg_yfe_T6mN",
    "outputId": "448fcd02-d5f9-465d-84b3-37f1601fd930"
   },
   "outputs": [
    {
     "data": {
      "application/vnd.google.colaboratory.intrinsic+json": {
       "type": "string"
      },
      "text/plain": [
       "'No'"
      ]
     },
     "execution_count": 38,
     "metadata": {},
     "output_type": "execute_result"
    }
   ],
   "source": [
    "outputB = model_tennis.predict([[1,1,1,1]])[0] #output for [Rain,Hot,Normal,Weak] \n",
    "prediction_yes_no[outputB]"
   ]
  },
  {
   "cell_type": "markdown",
   "metadata": {
    "id": "qskEGfsPVx9u"
   },
   "source": [
    "Prediction for **[Overcast,Mild,Normal,Strong]** True output is **Yes**"
   ]
  },
  {
   "cell_type": "code",
   "execution_count": 39,
   "metadata": {
    "colab": {
     "base_uri": "https://localhost:8080/",
     "height": 35
    },
    "executionInfo": {
     "elapsed": 44,
     "status": "ok",
     "timestamp": 1636527760159,
     "user": {
      "displayName": "Mohamed Aliyar Mohamed Nijas",
      "photoUrl": "https://lh3.googleusercontent.com/a/default-user=s64",
      "userId": "08734262669778471711"
     },
     "user_tz": -330
    },
    "id": "eJrj5iX2WFMN",
    "outputId": "247eec6a-f280-49ba-db9b-84835a41b530"
   },
   "outputs": [
    {
     "data": {
      "application/vnd.google.colaboratory.intrinsic+json": {
       "type": "string"
      },
      "text/plain": [
       "'Yes'"
      ]
     },
     "execution_count": 39,
     "metadata": {},
     "output_type": "execute_result"
    }
   ],
   "source": [
    "outputC = model_tennis.predict([[0,2,1,0]])[0] #output for [Overcast,Mild,Normal,Strong] \n",
    "prediction_yes_no[outputC]"
   ]
  },
  {
   "cell_type": "markdown",
   "metadata": {
    "id": "7ez6t99Mk5om"
   },
   "source": [
    "**SO All above three Unseen predictions are Correct**"
   ]
  }
 ],
 "metadata": {
  "colab": {
   "authorship_tag": "ABX9TyPxkrFAuiSc9NQ9gyQ5Nevj",
   "collapsed_sections": [],
   "name": " Assignment02 part A.ipynb",
   "provenance": []
  },
  "kernelspec": {
   "display_name": "Python 3",
   "language": "python",
   "name": "python3"
  },
  "language_info": {
   "codemirror_mode": {
    "name": "ipython",
    "version": 3
   },
   "file_extension": ".py",
   "mimetype": "text/x-python",
   "name": "python",
   "nbconvert_exporter": "python",
   "pygments_lexer": "ipython3",
   "version": "3.8.8"
  }
 },
 "nbformat": 4,
 "nbformat_minor": 1
}
